{
 "cells": [
  {
   "cell_type": "code",
   "execution_count": 1,
   "id": "b57415e1-d8b5-4570-bece-15aeaa145464",
   "metadata": {},
   "outputs": [],
   "source": [
    "import h5py\n",
    "import numpy as np\n",
    "import torch\n",
    "import torch.nn as nn\n",
    "import torch.optim as optim\n",
    "import torchvision.transforms as transforms\n",
    "import torchvision.transforms.functional as TF  \n",
    "from torch.utils.data import Dataset, DataLoader\n",
    "from PIL import Image\n",
    "import torch.nn.functional as F  \n",
    "from tqdm import tqdm\n",
    "import pandas as pd\n",
    "import matplotlib.pyplot as plt\n",
    "import seaborn as sns\n",
    "from sklearn.metrics import confusion_matrix\n",
    "import io\n",
    "import os\n",
    "import random\n",
    "import pickle"
   ]
  },
  {
   "cell_type": "code",
   "execution_count": 2,
   "id": "6c8d96b0-bf3d-4901-b4a6-9d5295bfbf17",
   "metadata": {},
   "outputs": [
    {
     "name": "stdout",
     "output_type": "stream",
     "text": [
      "data_batch_1:\n",
      "  Data shape: (10000, 3072)\n",
      "  Labels shape: 10000, all present: True\n",
      "data_batch_2:\n",
      "  Data shape: (10000, 3072)\n",
      "  Labels shape: 10000, all present: True\n",
      "data_batch_3:\n",
      "  Data shape: (10000, 3072)\n",
      "  Labels shape: 10000, all present: True\n",
      "data_batch_4:\n",
      "  Data shape: (10000, 3072)\n",
      "  Labels shape: 10000, all present: True\n",
      "data_batch_5:\n",
      "  Data shape: (10000, 3072)\n",
      "  Labels shape: 10000, all present: True\n",
      "test_batch:\n",
      "  Data shape: (10000, 3072)\n",
      "  Labels shape: 10000, all present: True\n"
     ]
    }
   ],
   "source": [
    "batch_files = [f\"/scratch/as20255/cifar-10-batches-py/data_batch_{i}\" for i in range(1, 6)]\n",
    "test_batch_file = \"/scratch/as20255/cifar-10-batches-py/test_batch\"\n",
    "for file in batch_files + [test_batch_file]:\n",
    "    with open(file, 'rb') as f:\n",
    "        data = pickle.load(f, encoding='bytes')\n",
    "        print(f\"{os.path.basename(file)}:\")\n",
    "        print(f\"  Data shape: {data[b'data'].shape}\")\n",
    "        print(f\"  Labels shape: {len(data[b'labels'])}, all present: {len(data[b'labels']) == data[b'data'].shape[0]}\")"
   ]
  },
  {
   "cell_type": "code",
   "execution_count": 3,
   "id": "027e16c8-00df-42b9-8ddc-182fe106ab5c",
   "metadata": {},
   "outputs": [
    {
     "name": "stdout",
     "output_type": "stream",
     "text": [
      "cifar_test_nolabel.pkl:\n",
      "  Data shape: (10000, 32, 32, 3)\n",
      "  Labels present: False\n"
     ]
    }
   ],
   "source": [
    "with open(\"/scratch/as20255/cifar_test_nolabel.pkl\", 'rb') as f:\n",
    "    data = pickle.load(f, encoding='bytes')\n",
    "    print(\"cifar_test_nolabel.pkl:\")\n",
    "    print(f\"  Data shape: {data[b'data'].shape}\")\n",
    "    print(f\"  Labels present: {b'labels' in data}\")"
   ]
  },
  {
   "cell_type": "code",
   "execution_count": 4,
   "id": "52d84426-c474-461b-befa-1ee02688f298",
   "metadata": {},
   "outputs": [],
   "source": [
    "batch_files = [f\"cifar-10-batches-py/data_batch_{i}\" for i in range(1, 6)]\n",
    "all_images, all_labels = [], []\n",
    "for batch_file in batch_files:\n",
    "    with open(batch_file, 'rb') as f:\n",
    "        batch_data = pickle.load(f, encoding='bytes')\n",
    "        all_images.append(batch_data[b'data'])\n",
    "        all_labels.extend(batch_data[b'labels'])\n",
    "train_images = np.vstack(all_images)\n",
    "train_labels = all_labels\n",
    "\n",
    "with open(\"cifar-10-batches-py/test_batch\", 'rb') as f:\n",
    "    val_data = pickle.load(f, encoding='bytes')\n",
    "val_images = val_data[b'data']\n",
    "val_labels = val_data[b'labels']\n",
    "\n",
    "with open(\"cifar_test_nolabel.pkl\", 'rb') as f:\n",
    "    test_nolabel_data = pickle.load(f, encoding='bytes')\n",
    "    \n",
    "test_nolabel_images = test_nolabel_data[b'data'].astype(np.uint8)  # Already (10000, 32, 32, 3)\n",
    "test_nolabel_ids = test_nolabel_data[b'ids']  "
   ]
  },
  {
   "cell_type": "code",
   "execution_count": 5,
   "id": "2712f265-2185-465f-bb3a-01333ea9b3b1",
   "metadata": {},
   "outputs": [],
   "source": [
    "# Save training dataset\n",
    "with h5py.File('train_dataset.h5', 'w') as f:\n",
    "    f.create_dataset('images', data=train_images)\n",
    "    f.create_dataset('labels', data=np.array(train_labels))\n",
    "\n",
    "# Save validation dataset\n",
    "with h5py.File('val_dataset.h5', 'w') as f:\n",
    "    f.create_dataset('images', data=val_images)\n",
    "    f.create_dataset('labels', data=np.array(val_labels))\n",
    "\n",
    "# Save test dataset (store IDs instead of labels)\n",
    "with h5py.File('test_dataset.h5', 'w') as f:\n",
    "    f.create_dataset('images', data=test_nolabel_images)\n",
    "    f.create_dataset('ids', data=np.array(test_nolabel_ids))"
   ]
  },
  {
   "cell_type": "code",
   "execution_count": 6,
   "id": "c03fce43-0da6-41b3-95bd-bc0af1e45d3f",
   "metadata": {},
   "outputs": [],
   "source": [
    "with h5py.File('train_dataset.h5', 'r') as f:\n",
    "    train_images = f['images'][:]\n",
    "    train_labels = f['labels'][:]\n",
    "with h5py.File('val_dataset.h5', 'r') as f:\n",
    "    val_images = f['images'][:]\n",
    "    val_labels = f['labels'][:]\n",
    "with h5py.File('test_dataset.h5', 'r') as f:\n",
    "    test_images = f['images'][:]\n",
    "    test_ids = f['ids'][:]"
   ]
  },
  {
   "cell_type": "code",
   "execution_count": 7,
   "id": "776dc0d8-ed24-4c1f-b8e3-f4835a82f65c",
   "metadata": {},
   "outputs": [],
   "source": [
    "class CIFAR10Dataset(Dataset):\n",
    "    def __init__(self, data, labels=None, ids=None, transform=None, is_flat=True):\n",
    "        self.data = data.reshape(-1, 3, 32, 32).transpose(0, 2, 3, 1).astype(np.uint8) if is_flat else data.astype(np.uint8)\n",
    "        self.labels = labels\n",
    "        self.ids = ids if ids is not None else np.arange(len(data))\n",
    "        self.transform = transform\n",
    "    def __len__(self):\n",
    "        return len(self.data)\n",
    "    def __getitem__(self, idx):\n",
    "        image = Image.fromarray(self.data[idx])\n",
    "        if self.transform:\n",
    "            image = self.transform(image)\n",
    "        label = self.labels[idx] if self.labels is not None else -1\n",
    "        return image, label, self.ids[idx]"
   ]
  },
  {
   "cell_type": "code",
   "execution_count": 8,
   "id": "03311ab5-cf40-4673-81ed-a4c58f2cc02b",
   "metadata": {},
   "outputs": [
    {
     "name": "stdout",
     "output_type": "stream",
     "text": [
      "Computed Mean: [0.49140089750289917, 0.48215895891189575, 0.4465307891368866]\n",
      "Computed Std: [0.2470327913761139, 0.243484228849411, 0.261587530374527]\n"
     ]
    }
   ],
   "source": [
    "train_images_np = train_images.reshape(-1, 3, 32, 32).astype(np.float32) / 255.0\n",
    "mean = np.mean(train_images_np, axis=(0, 2, 3)).tolist()  # [R, G, B]\n",
    "std = np.std(train_images_np, axis=(0, 2, 3)).tolist()    # [R, G, B]\n",
    "print(f\"Computed Mean: {mean}\")\n",
    "print(f\"Computed Std: {std}\")"
   ]
  },
  {
   "cell_type": "code",
   "execution_count": 9,
   "id": "db0be29b-7366-4dde-bda3-391ad291c0d5",
   "metadata": {},
   "outputs": [
    {
     "name": "stdout",
     "output_type": "stream",
     "text": [
      "Train images type: <class 'numpy.ndarray'> dtype: uint8\n",
      "Train labels type: <class 'numpy.ndarray'> dtype: int64\n",
      "Val images type: <class 'numpy.ndarray'> dtype: uint8\n",
      "Val labels type: <class 'numpy.ndarray'> dtype: int64\n",
      "Test images type: <class 'numpy.ndarray'> dtype: uint8\n",
      "Test IDs type: <class 'numpy.ndarray'> dtype: int64\n"
     ]
    }
   ],
   "source": [
    "print(\"Train images type:\", type(train_images), \"dtype:\", train_images.dtype)\n",
    "print(\"Train labels type:\", type(train_labels), \"dtype:\", np.array(train_labels).dtype if isinstance(train_labels, list) else train_labels.dtype)\n",
    "print(\"Val images type:\", type(val_images), \"dtype:\", val_images.dtype)\n",
    "print(\"Val labels type:\", type(val_labels), \"dtype:\", np.array(val_labels).dtype if isinstance(val_labels, list) else val_labels.dtype)\n",
    "print(\"Test images type:\", type(test_nolabel_images), \"dtype:\", test_nolabel_images.dtype)\n",
    "print(\"Test IDs type:\", type(test_nolabel_ids), \"dtype:\", np.array(test_nolabel_ids).dtype if isinstance(test_nolabel_ids, list) else test_nolabel_ids.dtype)"
   ]
  },
  {
   "cell_type": "code",
   "execution_count": 10,
   "id": "b7183fa6-8654-4817-9f3c-15ea320f2f2b",
   "metadata": {},
   "outputs": [],
   "source": [
    "def get_train_transform(severity=1.0):\n",
    "    \n",
    "    base_transforms = [\n",
    "        transforms.RandomCrop(32, padding=1), \n",
    "        transforms.RandomHorizontalFlip(),\n",
    "    ]\n",
    "    \n",
    "    color_factor = min(1.3, 0.7 + 0.6 * (severity - 1.0)) \n",
    "    color_transforms = transforms.RandomChoice([\n",
    "        transforms.Lambda(lambda img: TF.adjust_brightness(img, random.uniform(0.7, 1.0 + color_factor))),\n",
    "        transforms.Lambda(lambda img: TF.adjust_contrast(img, random.uniform(0.7, 1.0 + color_factor))),\n",
    "        transforms.Lambda(lambda img: TF.adjust_hue(img, random.uniform(-0.1 * severity, 0.1 * severity))),\n",
    "        transforms.Lambda(lambda img: TF.adjust_saturation(img, random.uniform(0.7, 1.0 + color_factor))),\n",
    "    ])\n",
    "    \n",
    "    blur_sigma = min(0.8, 0.1 + 0.7 * (severity - 1)) \n",
    "    jpeg_quality = max(50, 90 - 40 * (severity - 1))   \n",
    "    pixel_scale = max(0.5, 0.9 - 0.4 * (severity - 1))\n",
    "    hard_transforms = transforms.RandomChoice([\n",
    "        transforms.GaussianBlur(kernel_size=3, sigma=(0.1, blur_sigma)),\n",
    "        transforms.Lambda(lambda img: pixelate(img, scale=pixel_scale)),\n",
    "    ])\n",
    "    \n",
    "    rotation_degrees = min(30, 10 * severity)  \n",
    "    distortion_scale = min(0.5, 0.2 + 0.3 * (severity - 1.0)) \n",
    "    geometric_transforms = transforms.RandomChoice([\n",
    "        transforms.RandomRotation(degrees=rotation_degrees),\n",
    "        transforms.RandomPerspective(distortion_scale=distortion_scale, p=0.5),\n",
    "    ])\n",
    "    \n",
    "    return transforms.Compose(\n",
    "        base_transforms + [\n",
    "            color_transforms,\n",
    "            hard_transforms,\n",
    "            geometric_transforms,\n",
    "            transforms.RandomGrayscale(p=0.35 * severity),  \n",
    "            transforms.ToTensor(),\n",
    "            transforms.Normalize(mean=mean, std=std),\n",
    "        ]\n",
    "    )\n",
    "\n",
    "train_transform = get_train_transform(severity=1.0)\n",
    "\n",
    "val_test_transform = transforms.Compose([\n",
    "    transforms.ToTensor(),\n",
    "    transforms.Normalize(mean=mean, std=std),\n",
    "])\n",
    "\n",
    "train_dataset = CIFAR10Dataset(train_images, train_labels, transform=train_transform)\n",
    "val_dataset = CIFAR10Dataset(val_images, val_labels, transform=val_test_transform)\n",
    "test_dataset = CIFAR10Dataset(test_images, ids=test_ids, transform=val_test_transform, is_flat=False)"
   ]
  },
  {
   "cell_type": "code",
   "execution_count": 11,
   "id": "9d1b42ac-e531-4ce2-9351-698f3a2f5275",
   "metadata": {},
   "outputs": [],
   "source": [
    "cifar10_labels = {\n",
    "    0: 'airplane', 1: 'automobile', 2: 'bird', 3: 'cat', 4: 'deer',\n",
    "    5: 'dog', 6: 'frog', 7: 'horse', 8: 'ship', 9: 'truck'\n",
    "}"
   ]
  },
  {
   "cell_type": "code",
   "execution_count": 12,
   "id": "0a1c8ac5-6f46-41c6-9ac0-767060686407",
   "metadata": {},
   "outputs": [
    {
     "name": "stdout",
     "output_type": "stream",
     "text": [
      "Train dataset size: 50000\n",
      "Validation dataset size: 10000\n",
      "Test dataset size: 10000\n"
     ]
    }
   ],
   "source": [
    "print(\"Train dataset size:\", len(train_dataset))\n",
    "print(\"Validation dataset size:\", len(val_dataset))\n",
    "print(\"Test dataset size:\", len(test_dataset))"
   ]
  },
  {
   "cell_type": "code",
   "execution_count": 13,
   "id": "f6ae6cd9-efe5-4485-a6a5-a4eeabce9c5c",
   "metadata": {},
   "outputs": [],
   "source": [
    "def pixelate(img, scale=0.5):\n",
    "    small_size = (int(32 * scale), int(32 * scale))  # e.g., 16x16\n",
    "    img = img.resize(small_size, Image.NEAREST)\n",
    "    return img.resize((32, 32), Image.NEAREST)"
   ]
  },
  {
   "cell_type": "code",
   "execution_count": 14,
   "id": "79da40bc-ee20-4434-a6c6-f758c3650aeb",
   "metadata": {},
   "outputs": [
    {
     "data": {
      "image/png": "[encoded data removed]",
      "text/plain": [
       "<Figure size 1200x500 with 10 Axes>"
      ]
     },
     "metadata": {},
     "output_type": "display_data"
    }
   ],
   "source": [
    "fig, axes = plt.subplots(2, 5, figsize=(12, 5))\n",
    "indices = np.random.choice(len(train_dataset), 10, replace=False)\n",
    "for ax, idx in zip(axes.flatten(), indices):\n",
    "    img, label, _ = train_dataset[idx]\n",
    "    img_np = img.permute(1, 2, 0).numpy() * np.array(std) + np.array(mean)\n",
    "    img_np = np.clip(img_np, 0, 1)\n",
    "    ax.imshow(img_np)\n",
    "    ax.set_title(f\"{cifar10_labels[label]}\")\n",
    "    ax.axis('off')\n",
    "plt.tight_layout()\n",
    "plt.show()"
   ]
  },
  {
   "cell_type": "code",
   "execution_count": 15,
   "id": "0c8dce69-b9f8-4c7a-ba24-7265eaad3f53",
   "metadata": {},
   "outputs": [
    {
     "data": {
      "image/png": "[encoded data removed]",
      "text/plain": [
       "<Figure size 1200x500 with 10 Axes>"
      ]
     },
     "metadata": {},
     "output_type": "display_data"
    }
   ],
   "source": [
    "fig, axes = plt.subplots(2, 5, figsize=(12, 5))\n",
    "indices = np.random.choice(len(val_dataset), 10, replace=False)\n",
    "for ax, idx in zip(axes.flatten(), indices):\n",
    "    img, label, _ = val_dataset[idx]\n",
    "    img_np = img.permute(1, 2, 0).numpy() * np.array(std) + np.array(mean)\n",
    "    img_np = np.clip(img_np, 0, 1)\n",
    "    ax.imshow(img_np)\n",
    "    ax.set_title(f\"Label: {cifar10_labels[label]}\")\n",
    "    ax.axis('off')\n",
    "plt.tight_layout()\n",
    "plt.show()"
   ]
  },
  {
   "cell_type": "code",
   "execution_count": 16,
   "id": "0057d9b3-eb85-44ef-9c41-9486b76f8072",
   "metadata": {},
   "outputs": [
    {
     "data": {
      "image/png": "[encoded data removed]",
      "text/plain": [
       "<Figure size 1200x500 with 10 Axes>"
      ]
     },
     "metadata": {},
     "output_type": "display_data"
    }
   ],
   "source": [
    "fig, axes = plt.subplots(2, 5, figsize=(12, 5))\n",
    "indices = np.random.choice(len(test_dataset), 10, replace=False)\n",
    "for ax, idx in zip(axes.flatten(), indices):\n",
    "    img, _, id = test_dataset[idx]\n",
    "    img_np = img.permute(1, 2, 0).numpy() * np.array(std) + np.array(mean)\n",
    "    img_np = np.clip(img_np, 0, 1)\n",
    "    ax.imshow(img_np)\n",
    "    ax.set_title(f\"ID: {id}\")\n",
    "    ax.axis('off')\n",
    "plt.tight_layout()\n",
    "plt.show()"
   ]
  },
  {
   "cell_type": "code",
   "execution_count": 17,
   "id": "1ec2b2aa-3833-4c1f-bc6d-ac37e8a84b8a",
   "metadata": {},
   "outputs": [],
   "source": [
    "train_loader = DataLoader(train_dataset, batch_size=64, shuffle=True, num_workers=4)\n",
    "val_loader = DataLoader(val_dataset, batch_size=64, shuffle=False, num_workers=4)\n",
    "test_loader = DataLoader(test_dataset, batch_size=64, shuffle=False, num_workers=4)"
   ]
  },
  {
   "cell_type": "code",
   "execution_count": 18,
   "id": "acd97370-a885-4ac8-9688-7a6dd7be8e95",
   "metadata": {},
   "outputs": [
    {
     "data": {
      "image/png": "[encoded data removed]",
      "text/plain": [
       "<Figure size 1200x500 with 10 Axes>"
      ]
     },
     "metadata": {},
     "output_type": "display_data"
    }
   ],
   "source": [
    "fig, axes = plt.subplots(2, 5, figsize=(12, 5))\n",
    "indices = np.random.choice(len(train_dataset), 10, replace=False)\n",
    "for ax, idx in zip(axes.flatten(), indices):\n",
    "    img, label, _ = train_dataset[idx]\n",
    "    img_np = img.permute(1, 2, 0).numpy() * np.array(std) + np.array(mean)\n",
    "    img_np = np.clip(img_np, 0, 1)\n",
    "    ax.imshow(img_np)\n",
    "    ax.set_title(f\"{cifar10_labels[label]}\")\n",
    "    ax.axis('off')\n",
    "plt.tight_layout()\n",
    "plt.show()"
   ]
  },
  {
   "cell_type": "code",
   "execution_count": 19,
   "id": "1f93022a-8cdd-4dff-a3b1-d255e3b0719a",
   "metadata": {},
   "outputs": [],
   "source": [
    "import torch\n",
    "import torch.nn as nn\n",
    "import torch.optim as optim\n",
    "import torch.nn.functional as F\n",
    "from tqdm import tqdm\n",
    "import os"
   ]
  },
  {
   "cell_type": "code",
   "execution_count": 20,
   "id": "2c08b8b9-0a43-4ff8-9106-80b982c3321d",
   "metadata": {},
   "outputs": [],
   "source": [
    "class SEBasicBlock(nn.Module):\n",
    "    def __init__(self, in_channels, out_channels, stride=1, reduction=16):\n",
    "        super(SEBasicBlock, self).__init__()\n",
    "        self.conv1 = nn.Conv2d(in_channels, out_channels, kernel_size=3, stride=stride, padding=1, bias=False)\n",
    "        self.bn1 = nn.BatchNorm2d(out_channels)\n",
    "        self.conv2 = nn.Conv2d(out_channels, out_channels, kernel_size=3, stride=1, padding=1, bias=False)\n",
    "        self.bn2 = nn.BatchNorm2d(out_channels)\n",
    "        self.se = nn.Sequential(\n",
    "            nn.AdaptiveAvgPool2d(1),\n",
    "            nn.Conv2d(out_channels, out_channels // reduction, kernel_size=1),\n",
    "            nn.ReLU(inplace=True),\n",
    "            nn.Conv2d(out_channels // reduction, out_channels, kernel_size=1),\n",
    "            nn.Sigmoid()\n",
    "        )\n",
    "        self.shortcut = nn.Sequential()\n",
    "        if stride != 1 or in_channels != out_channels:\n",
    "            self.shortcut = nn.Sequential(\n",
    "                nn.Conv2d(in_channels, out_channels, kernel_size=1, stride=stride, bias=False),\n",
    "                nn.BatchNorm2d(out_channels)\n",
    "            )\n",
    "\n",
    "    def forward(self, x):\n",
    "        out = F.relu(self.bn1(self.conv1(x)))\n",
    "        out = self.bn2(self.conv2(out))\n",
    "        se = self.se(out)\n",
    "        out = out * se\n",
    "        out += self.shortcut(x)\n",
    "        out = F.relu(out)\n",
    "        return out"
   ]
  },
  {
   "cell_type": "code",
   "execution_count": 21,
   "id": "e12cb23c-4b51-4136-9327-4cb1c823fa25",
   "metadata": {},
   "outputs": [],
   "source": [
    "class ResNet(nn.Module):\n",
    "    def __init__(self, block, num_blocks, num_classes=10):\n",
    "        super(ResNet, self).__init__()\n",
    "        self.in_channels = 16\n",
    "        self.conv1 = nn.Conv2d(3, 16, kernel_size=3, stride=1, padding=1, bias=False)\n",
    "        self.bn1 = nn.BatchNorm2d(16)\n",
    "        self.layer1 = self._make_layer(block, 48, num_blocks[0], stride=1)\n",
    "        self.layer2 = self._make_layer(block, 96, num_blocks[1], stride=1)\n",
    "        self.layer3 = self._make_layer(block, 144, num_blocks[2], stride=2)\n",
    "        self.layer4 = self._make_layer(block, 192, num_blocks[3], stride=2)\n",
    "        self.avgpool = nn.AdaptiveAvgPool2d(1)\n",
    "        self.dropout = nn.Dropout(0.1)\n",
    "        self.fc = nn.Linear(192, num_classes)\n",
    "\n",
    "    def _make_layer(self, block, out_channels, num_blocks, stride):\n",
    "        strides = [stride] + [1] * (num_blocks - 1)\n",
    "        layers = []\n",
    "        for stride in strides:\n",
    "            layers.append(block(self.in_channels, out_channels, stride))\n",
    "            self.in_channels = out_channels\n",
    "        return nn.Sequential(*layers)\n",
    "\n",
    "    def forward(self, x):\n",
    "        out = F.relu(self.bn1(self.conv1(x)))\n",
    "        out = self.layer1(out)\n",
    "        out = self.layer2(out)\n",
    "        out = self.layer3(out)\n",
    "        out = self.layer4(out)\n",
    "        out = self.avgpool(out)\n",
    "        out = torch.flatten(out, 1)\n",
    "        out = self.dropout(out)\n",
    "        out = self.fc(out)\n",
    "        return out"
   ]
  },
  {
   "cell_type": "code",
   "execution_count": 22,
   "id": "869ec6ea-5403-42d0-a57f-0642839dd153",
   "metadata": {},
   "outputs": [],
   "source": [
    "device = torch.device(\"cuda\" if torch.cuda.is_available() else \"cpu\")\n",
    "model = ResNet(SEBasicBlock, [3, 4, 6, 3]).to(device)"
   ]
  },
  {
   "cell_type": "code",
   "execution_count": 23,
   "id": "8714e524-fc1c-4e26-a85d-a48c61628887",
   "metadata": {},
   "outputs": [
    {
     "name": "stdout",
     "output_type": "stream",
     "text": [
      "----------------------------------------------------------------\n",
      "        Layer (type)               Output Shape         Param #\n",
      "================================================================\n",
      "            Conv2d-1           [-1, 16, 32, 32]             432\n",
      "       BatchNorm2d-2           [-1, 16, 32, 32]              32\n",
      "            Conv2d-3           [-1, 48, 32, 32]           6,912\n",
      "       BatchNorm2d-4           [-1, 48, 32, 32]              96\n",
      "            Conv2d-5           [-1, 48, 32, 32]          20,736\n",
      "       BatchNorm2d-6           [-1, 48, 32, 32]              96\n",
      " AdaptiveAvgPool2d-7             [-1, 48, 1, 1]               0\n",
      "            Conv2d-8              [-1, 3, 1, 1]             147\n",
      "              ReLU-9              [-1, 3, 1, 1]               0\n",
      "           Conv2d-10             [-1, 48, 1, 1]             192\n",
      "          Sigmoid-11             [-1, 48, 1, 1]               0\n",
      "           Conv2d-12           [-1, 48, 32, 32]             768\n",
      "      BatchNorm2d-13           [-1, 48, 32, 32]              96\n",
      "     SEBasicBlock-14           [-1, 48, 32, 32]               0\n",
      "           Conv2d-15           [-1, 48, 32, 32]          20,736\n",
      "      BatchNorm2d-16           [-1, 48, 32, 32]              96\n",
      "           Conv2d-17           [-1, 48, 32, 32]          20,736\n",
      "      BatchNorm2d-18           [-1, 48, 32, 32]              96\n",
      "AdaptiveAvgPool2d-19             [-1, 48, 1, 1]               0\n",
      "           Conv2d-20              [-1, 3, 1, 1]             147\n",
      "             ReLU-21              [-1, 3, 1, 1]               0\n",
      "           Conv2d-22             [-1, 48, 1, 1]             192\n",
      "          Sigmoid-23             [-1, 48, 1, 1]               0\n",
      "     SEBasicBlock-24           [-1, 48, 32, 32]               0\n",
      "           Conv2d-25           [-1, 48, 32, 32]          20,736\n",
      "      BatchNorm2d-26           [-1, 48, 32, 32]              96\n",
      "           Conv2d-27           [-1, 48, 32, 32]          20,736\n",
      "      BatchNorm2d-28           [-1, 48, 32, 32]              96\n",
      "AdaptiveAvgPool2d-29             [-1, 48, 1, 1]               0\n",
      "           Conv2d-30              [-1, 3, 1, 1]             147\n",
      "             ReLU-31              [-1, 3, 1, 1]               0\n",
      "           Conv2d-32             [-1, 48, 1, 1]             192\n",
      "          Sigmoid-33             [-1, 48, 1, 1]               0\n",
      "     SEBasicBlock-34           [-1, 48, 32, 32]               0\n",
      "           Conv2d-35           [-1, 96, 32, 32]          41,472\n",
      "      BatchNorm2d-36           [-1, 96, 32, 32]             192\n",
      "           Conv2d-37           [-1, 96, 32, 32]          82,944\n",
      "      BatchNorm2d-38           [-1, 96, 32, 32]             192\n",
      "AdaptiveAvgPool2d-39             [-1, 96, 1, 1]               0\n",
      "           Conv2d-40              [-1, 6, 1, 1]             582\n",
      "             ReLU-41              [-1, 6, 1, 1]               0\n",
      "           Conv2d-42             [-1, 96, 1, 1]             672\n",
      "          Sigmoid-43             [-1, 96, 1, 1]               0\n",
      "           Conv2d-44           [-1, 96, 32, 32]           4,608\n",
      "      BatchNorm2d-45           [-1, 96, 32, 32]             192\n",
      "     SEBasicBlock-46           [-1, 96, 32, 32]               0\n",
      "           Conv2d-47           [-1, 96, 32, 32]          82,944\n",
      "      BatchNorm2d-48           [-1, 96, 32, 32]             192\n",
      "           Conv2d-49           [-1, 96, 32, 32]          82,944\n",
      "      BatchNorm2d-50           [-1, 96, 32, 32]             192\n",
      "AdaptiveAvgPool2d-51             [-1, 96, 1, 1]               0\n",
      "           Conv2d-52              [-1, 6, 1, 1]             582\n",
      "             ReLU-53              [-1, 6, 1, 1]               0\n",
      "           Conv2d-54             [-1, 96, 1, 1]             672\n",
      "          Sigmoid-55             [-1, 96, 1, 1]               0\n",
      "     SEBasicBlock-56           [-1, 96, 32, 32]               0\n",
      "           Conv2d-57           [-1, 96, 32, 32]          82,944\n",
      "      BatchNorm2d-58           [-1, 96, 32, 32]             192\n",
      "           Conv2d-59           [-1, 96, 32, 32]          82,944\n",
      "      BatchNorm2d-60           [-1, 96, 32, 32]             192\n",
      "AdaptiveAvgPool2d-61             [-1, 96, 1, 1]               0\n",
      "           Conv2d-62              [-1, 6, 1, 1]             582\n",
      "             ReLU-63              [-1, 6, 1, 1]               0\n",
      "           Conv2d-64             [-1, 96, 1, 1]             672\n",
      "          Sigmoid-65             [-1, 96, 1, 1]               0\n",
      "     SEBasicBlock-66           [-1, 96, 32, 32]               0\n",
      "           Conv2d-67           [-1, 96, 32, 32]          82,944\n",
      "      BatchNorm2d-68           [-1, 96, 32, 32]             192\n",
      "           Conv2d-69           [-1, 96, 32, 32]          82,944\n",
      "      BatchNorm2d-70           [-1, 96, 32, 32]             192\n",
      "AdaptiveAvgPool2d-71             [-1, 96, 1, 1]               0\n",
      "           Conv2d-72              [-1, 6, 1, 1]             582\n",
      "             ReLU-73              [-1, 6, 1, 1]               0\n",
      "           Conv2d-74             [-1, 96, 1, 1]             672\n",
      "          Sigmoid-75             [-1, 96, 1, 1]               0\n",
      "     SEBasicBlock-76           [-1, 96, 32, 32]               0\n",
      "           Conv2d-77          [-1, 144, 16, 16]         124,416\n",
      "      BatchNorm2d-78          [-1, 144, 16, 16]             288\n",
      "           Conv2d-79          [-1, 144, 16, 16]         186,624\n",
      "      BatchNorm2d-80          [-1, 144, 16, 16]             288\n",
      "AdaptiveAvgPool2d-81            [-1, 144, 1, 1]               0\n",
      "           Conv2d-82              [-1, 9, 1, 1]           1,305\n",
      "             ReLU-83              [-1, 9, 1, 1]               0\n",
      "           Conv2d-84            [-1, 144, 1, 1]           1,440\n",
      "          Sigmoid-85            [-1, 144, 1, 1]               0\n",
      "           Conv2d-86          [-1, 144, 16, 16]          13,824\n",
      "      BatchNorm2d-87          [-1, 144, 16, 16]             288\n",
      "     SEBasicBlock-88          [-1, 144, 16, 16]               0\n",
      "           Conv2d-89          [-1, 144, 16, 16]         186,624\n",
      "      BatchNorm2d-90          [-1, 144, 16, 16]             288\n",
      "           Conv2d-91          [-1, 144, 16, 16]         186,624\n",
      "      BatchNorm2d-92          [-1, 144, 16, 16]             288\n",
      "AdaptiveAvgPool2d-93            [-1, 144, 1, 1]               0\n",
      "           Conv2d-94              [-1, 9, 1, 1]           1,305\n",
      "             ReLU-95              [-1, 9, 1, 1]               0\n",
      "           Conv2d-96            [-1, 144, 1, 1]           1,440\n",
      "          Sigmoid-97            [-1, 144, 1, 1]               0\n",
      "     SEBasicBlock-98          [-1, 144, 16, 16]               0\n",
      "           Conv2d-99          [-1, 144, 16, 16]         186,624\n",
      "     BatchNorm2d-100          [-1, 144, 16, 16]             288\n",
      "          Conv2d-101          [-1, 144, 16, 16]         186,624\n",
      "     BatchNorm2d-102          [-1, 144, 16, 16]             288\n",
      "AdaptiveAvgPool2d-103            [-1, 144, 1, 1]               0\n",
      "          Conv2d-104              [-1, 9, 1, 1]           1,305\n",
      "            ReLU-105              [-1, 9, 1, 1]               0\n",
      "          Conv2d-106            [-1, 144, 1, 1]           1,440\n",
      "         Sigmoid-107            [-1, 144, 1, 1]               0\n",
      "    SEBasicBlock-108          [-1, 144, 16, 16]               0\n",
      "          Conv2d-109          [-1, 144, 16, 16]         186,624\n",
      "     BatchNorm2d-110          [-1, 144, 16, 16]             288\n",
      "          Conv2d-111          [-1, 144, 16, 16]         186,624\n",
      "     BatchNorm2d-112          [-1, 144, 16, 16]             288\n",
      "AdaptiveAvgPool2d-113            [-1, 144, 1, 1]               0\n",
      "          Conv2d-114              [-1, 9, 1, 1]           1,305\n",
      "            ReLU-115              [-1, 9, 1, 1]               0\n",
      "          Conv2d-116            [-1, 144, 1, 1]           1,440\n",
      "         Sigmoid-117            [-1, 144, 1, 1]               0\n",
      "    SEBasicBlock-118          [-1, 144, 16, 16]               0\n",
      "          Conv2d-119          [-1, 144, 16, 16]         186,624\n",
      "     BatchNorm2d-120          [-1, 144, 16, 16]             288\n",
      "          Conv2d-121          [-1, 144, 16, 16]         186,624\n",
      "     BatchNorm2d-122          [-1, 144, 16, 16]             288\n",
      "AdaptiveAvgPool2d-123            [-1, 144, 1, 1]               0\n",
      "          Conv2d-124              [-1, 9, 1, 1]           1,305\n",
      "            ReLU-125              [-1, 9, 1, 1]               0\n",
      "          Conv2d-126            [-1, 144, 1, 1]           1,440\n",
      "         Sigmoid-127            [-1, 144, 1, 1]               0\n",
      "    SEBasicBlock-128          [-1, 144, 16, 16]               0\n",
      "          Conv2d-129          [-1, 144, 16, 16]         186,624\n",
      "     BatchNorm2d-130          [-1, 144, 16, 16]             288\n",
      "          Conv2d-131          [-1, 144, 16, 16]         186,624\n",
      "     BatchNorm2d-132          [-1, 144, 16, 16]             288\n",
      "AdaptiveAvgPool2d-133            [-1, 144, 1, 1]               0\n",
      "          Conv2d-134              [-1, 9, 1, 1]           1,305\n",
      "            ReLU-135              [-1, 9, 1, 1]               0\n",
      "          Conv2d-136            [-1, 144, 1, 1]           1,440\n",
      "         Sigmoid-137            [-1, 144, 1, 1]               0\n",
      "    SEBasicBlock-138          [-1, 144, 16, 16]               0\n",
      "          Conv2d-139            [-1, 192, 8, 8]         248,832\n",
      "     BatchNorm2d-140            [-1, 192, 8, 8]             384\n",
      "          Conv2d-141            [-1, 192, 8, 8]         331,776\n",
      "     BatchNorm2d-142            [-1, 192, 8, 8]             384\n",
      "AdaptiveAvgPool2d-143            [-1, 192, 1, 1]               0\n",
      "          Conv2d-144             [-1, 12, 1, 1]           2,316\n",
      "            ReLU-145             [-1, 12, 1, 1]               0\n",
      "          Conv2d-146            [-1, 192, 1, 1]           2,496\n",
      "         Sigmoid-147            [-1, 192, 1, 1]               0\n",
      "          Conv2d-148            [-1, 192, 8, 8]          27,648\n",
      "     BatchNorm2d-149            [-1, 192, 8, 8]             384\n",
      "    SEBasicBlock-150            [-1, 192, 8, 8]               0\n",
      "          Conv2d-151            [-1, 192, 8, 8]         331,776\n",
      "     BatchNorm2d-152            [-1, 192, 8, 8]             384\n",
      "          Conv2d-153            [-1, 192, 8, 8]         331,776\n",
      "     BatchNorm2d-154            [-1, 192, 8, 8]             384\n",
      "AdaptiveAvgPool2d-155            [-1, 192, 1, 1]               0\n",
      "          Conv2d-156             [-1, 12, 1, 1]           2,316\n",
      "            ReLU-157             [-1, 12, 1, 1]               0\n",
      "          Conv2d-158            [-1, 192, 1, 1]           2,496\n",
      "         Sigmoid-159            [-1, 192, 1, 1]               0\n",
      "    SEBasicBlock-160            [-1, 192, 8, 8]               0\n",
      "          Conv2d-161            [-1, 192, 8, 8]         331,776\n",
      "     BatchNorm2d-162            [-1, 192, 8, 8]             384\n",
      "          Conv2d-163            [-1, 192, 8, 8]         331,776\n",
      "     BatchNorm2d-164            [-1, 192, 8, 8]             384\n",
      "AdaptiveAvgPool2d-165            [-1, 192, 1, 1]               0\n",
      "          Conv2d-166             [-1, 12, 1, 1]           2,316\n",
      "            ReLU-167             [-1, 12, 1, 1]               0\n",
      "          Conv2d-168            [-1, 192, 1, 1]           2,496\n",
      "         Sigmoid-169            [-1, 192, 1, 1]               0\n",
      "    SEBasicBlock-170            [-1, 192, 8, 8]               0\n",
      "AdaptiveAvgPool2d-171            [-1, 192, 1, 1]               0\n",
      "         Dropout-172                  [-1, 192]               0\n",
      "          Linear-173                   [-1, 10]           1,930\n",
      "================================================================\n",
      "Total params: 4,912,677\n",
      "Trainable params: 4,912,677\n",
      "Non-trainable params: 0\n",
      "----------------------------------------------------------------\n",
      "Input size (MB): 0.01\n",
      "Forward/backward pass size (MB): 33.77\n",
      "Params size (MB): 18.74\n",
      "Estimated Total Size (MB): 52.52\n",
      "----------------------------------------------------------------\n"
     ]
    }
   ],
   "source": [
    "from torchsummary import summary\n",
    "summary(model, (3, 32, 32))"
   ]
  },
  {
   "cell_type": "code",
   "execution_count": 25,
   "id": "1f3ffc84-eaa4-4e49-bb0f-13cc25d13364",
   "metadata": {},
   "outputs": [
    {
     "name": "stdout",
     "output_type": "stream",
     "text": [
      "No checkpoint found, starting training from scratch.\n"
     ]
    },
    {
     "name": "stderr",
     "output_type": "stream",
     "text": [
      "Epoch 1/150 - Training: 100%|██████████| 782/782 [00:34<00:00, 22.97it/s]\n"
     ]
    },
    {
     "name": "stdout",
     "output_type": "stream",
     "text": [
      "Epoch [1/150] | Train Loss: 1.2424, Train Acc: 73.41% | Val Loss: 1.0876, Val Acc: 81.45% | Acc Gap: -8.04% | Transform Severity: 1.00\n",
      "Model checkpoint saved at epoch 1 with val loss 1.0876\n"
     ]
    },
    {
     "name": "stderr",
     "output_type": "stream",
     "text": [
      "Epoch 2/150 - Training: 100%|██████████| 782/782 [00:33<00:00, 23.23it/s]\n"
     ]
    },
    {
     "name": "stdout",
     "output_type": "stream",
     "text": [
      "Epoch [2/150] | Train Loss: 1.2127, Train Acc: 74.68% | Val Loss: 1.1017, Val Acc: 80.50% | Acc Gap: -5.82% | Transform Severity: 1.00\n"
     ]
    },
    {
     "name": "stderr",
     "output_type": "stream",
     "text": [
      "Epoch 3/150 - Training: 100%|██████████| 782/782 [00:36<00:00, 21.23it/s]\n"
     ]
    },
    {
     "name": "stdout",
     "output_type": "stream",
     "text": [
      "Epoch [3/150] | Train Loss: 1.1858, Train Acc: 76.11% | Val Loss: 1.0989, Val Acc: 80.29% | Acc Gap: -4.18% | Transform Severity: 1.00\n"
     ]
    },
    {
     "name": "stderr",
     "output_type": "stream",
     "text": [
      "Epoch 4/150 - Training: 100%|██████████| 782/782 [00:35<00:00, 22.28it/s]\n"
     ]
    },
    {
     "name": "stdout",
     "output_type": "stream",
     "text": [
      "Epoch [4/150] | Train Loss: 1.1668, Train Acc: 77.12% | Val Loss: 1.0552, Val Acc: 82.03% | Acc Gap: -4.91% | Transform Severity: 1.00\n",
      "Model checkpoint saved at epoch 4 with val loss 1.0552\n"
     ]
    },
    {
     "name": "stderr",
     "output_type": "stream",
     "text": [
      "Epoch 5/150 - Training: 100%|██████████| 782/782 [00:35<00:00, 21.91it/s]\n"
     ]
    },
    {
     "name": "stdout",
     "output_type": "stream",
     "text": [
      "Epoch [5/150] | Train Loss: 1.1484, Train Acc: 78.05% | Val Loss: 1.0138, Val Acc: 84.72% | Acc Gap: -6.67% | Transform Severity: 1.00\n",
      "Model checkpoint saved at epoch 5 with val loss 1.0138\n"
     ]
    },
    {
     "name": "stderr",
     "output_type": "stream",
     "text": [
      "Epoch 6/150 - Training: 100%|██████████| 782/782 [00:35<00:00, 21.75it/s]\n"
     ]
    },
    {
     "name": "stdout",
     "output_type": "stream",
     "text": [
      "Epoch [6/150] | Train Loss: 1.1290, Train Acc: 78.94% | Val Loss: 1.0437, Val Acc: 83.36% | Acc Gap: -4.42% | Transform Severity: 1.00\n"
     ]
    },
    {
     "name": "stderr",
     "output_type": "stream",
     "text": [
      "Epoch 7/150 - Training: 100%|██████████| 782/782 [00:34<00:00, 22.68it/s]\n"
     ]
    },
    {
     "name": "stdout",
     "output_type": "stream",
     "text": [
      "Epoch [7/150] | Train Loss: 1.1179, Train Acc: 79.46% | Val Loss: 1.0609, Val Acc: 82.43% | Acc Gap: -2.97% | Transform Severity: 1.00\n"
     ]
    },
    {
     "name": "stderr",
     "output_type": "stream",
     "text": [
      "Epoch 8/150 - Training: 100%|██████████| 782/782 [00:32<00:00, 24.17it/s]\n"
     ]
    },
    {
     "name": "stdout",
     "output_type": "stream",
     "text": [
      "Epoch [8/150] | Train Loss: 1.1010, Train Acc: 80.26% | Val Loss: 0.9978, Val Acc: 85.33% | Acc Gap: -5.07% | Transform Severity: 1.00\n",
      "Model checkpoint saved at epoch 8 with val loss 0.9978\n"
     ]
    },
    {
     "name": "stderr",
     "output_type": "stream",
     "text": [
      "Epoch 9/150 - Training: 100%|██████████| 782/782 [00:33<00:00, 23.39it/s]\n"
     ]
    },
    {
     "name": "stdout",
     "output_type": "stream",
     "text": [
      "Epoch [9/150] | Train Loss: 1.0930, Train Acc: 80.64% | Val Loss: 1.0127, Val Acc: 84.72% | Acc Gap: -4.08% | Transform Severity: 1.00\n"
     ]
    },
    {
     "name": "stderr",
     "output_type": "stream",
     "text": [
      "Epoch 10/150 - Training: 100%|██████████| 782/782 [00:31<00:00, 24.99it/s]\n"
     ]
    },
    {
     "name": "stdout",
     "output_type": "stream",
     "text": [
      "Epoch [10/150] | Train Loss: 1.0833, Train Acc: 81.28% | Val Loss: 0.9528, Val Acc: 87.50% | Acc Gap: -6.22% | Transform Severity: 1.00\n",
      "Model checkpoint saved at epoch 10 with val loss 0.9528\n"
     ]
    },
    {
     "name": "stderr",
     "output_type": "stream",
     "text": [
      "Epoch 11/150 - Training: 100%|██████████| 782/782 [00:30<00:00, 25.54it/s]\n"
     ]
    },
    {
     "name": "stdout",
     "output_type": "stream",
     "text": [
      "Epoch [11/150] | Train Loss: 1.0726, Train Acc: 81.78% | Val Loss: 0.9712, Val Acc: 86.95% | Acc Gap: -5.17% | Transform Severity: 1.00\n"
     ]
    },
    {
     "name": "stderr",
     "output_type": "stream",
     "text": [
      "Epoch 12/150 - Training: 100%|██████████| 782/782 [00:33<00:00, 23.34it/s]\n"
     ]
    },
    {
     "name": "stdout",
     "output_type": "stream",
     "text": [
      "Epoch [12/150] | Train Loss: 1.0676, Train Acc: 81.98% | Val Loss: 0.9544, Val Acc: 87.32% | Acc Gap: -5.34% | Transform Severity: 1.00\n"
     ]
    },
    {
     "name": "stderr",
     "output_type": "stream",
     "text": [
      "Epoch 13/150 - Training: 100%|██████████| 782/782 [00:32<00:00, 24.14it/s]\n"
     ]
    },
    {
     "name": "stdout",
     "output_type": "stream",
     "text": [
      "Epoch [13/150] | Train Loss: 1.0609, Train Acc: 82.37% | Val Loss: 0.9454, Val Acc: 87.86% | Acc Gap: -5.49% | Transform Severity: 1.00\n",
      "Model checkpoint saved at epoch 13 with val loss 0.9454\n"
     ]
    },
    {
     "name": "stderr",
     "output_type": "stream",
     "text": [
      "Epoch 14/150 - Training: 100%|██████████| 782/782 [00:32<00:00, 24.36it/s]\n"
     ]
    },
    {
     "name": "stdout",
     "output_type": "stream",
     "text": [
      "Epoch [14/150] | Train Loss: 1.0606, Train Acc: 82.41% | Val Loss: 0.9412, Val Acc: 87.94% | Acc Gap: -5.53% | Transform Severity: 1.00\n",
      "Model checkpoint saved at epoch 14 with val loss 0.9412\n"
     ]
    },
    {
     "name": "stderr",
     "output_type": "stream",
     "text": [
      "Epoch 15/150 - Training: 100%|██████████| 782/782 [00:31<00:00, 25.04it/s]\n"
     ]
    },
    {
     "name": "stdout",
     "output_type": "stream",
     "text": [
      "Epoch [15/150] | Train Loss: 1.0452, Train Acc: 82.99% | Val Loss: 0.9564, Val Acc: 87.39% | Acc Gap: -4.40% | Transform Severity: 1.00\n"
     ]
    },
    {
     "name": "stderr",
     "output_type": "stream",
     "text": [
      "Epoch 16/150 - Training: 100%|██████████| 782/782 [00:32<00:00, 23.94it/s]\n"
     ]
    },
    {
     "name": "stdout",
     "output_type": "stream",
     "text": [
      "Epoch [16/150] | Train Loss: 1.0500, Train Acc: 82.77% | Val Loss: 0.9531, Val Acc: 87.53% | Acc Gap: -4.76% | Transform Severity: 1.00\n"
     ]
    },
    {
     "name": "stderr",
     "output_type": "stream",
     "text": [
      "Epoch 17/150 - Training: 100%|██████████| 782/782 [00:31<00:00, 24.94it/s]\n"
     ]
    },
    {
     "name": "stdout",
     "output_type": "stream",
     "text": [
      "Epoch [17/150] | Train Loss: 1.0325, Train Acc: 83.70% | Val Loss: 0.9311, Val Acc: 88.57% | Acc Gap: -4.87% | Transform Severity: 1.00\n",
      "Model checkpoint saved at epoch 17 with val loss 0.9311\n"
     ]
    },
    {
     "name": "stderr",
     "output_type": "stream",
     "text": [
      "Epoch 18/150 - Training: 100%|██████████| 782/782 [00:33<00:00, 23.66it/s]\n"
     ]
    },
    {
     "name": "stdout",
     "output_type": "stream",
     "text": [
      "Epoch [18/150] | Train Loss: 1.0350, Train Acc: 83.69% | Val Loss: 0.9501, Val Acc: 87.84% | Acc Gap: -4.15% | Transform Severity: 1.00\n"
     ]
    },
    {
     "name": "stderr",
     "output_type": "stream",
     "text": [
      "Epoch 19/150 - Training: 100%|██████████| 782/782 [00:31<00:00, 24.89it/s]\n"
     ]
    },
    {
     "name": "stdout",
     "output_type": "stream",
     "text": [
      "Epoch [19/150] | Train Loss: 1.0255, Train Acc: 83.97% | Val Loss: 0.9619, Val Acc: 86.92% | Acc Gap: -2.95% | Transform Severity: 1.00\n"
     ]
    },
    {
     "name": "stderr",
     "output_type": "stream",
     "text": [
      "Epoch 20/150 - Training: 100%|██████████| 782/782 [00:32<00:00, 24.19it/s]\n"
     ]
    },
    {
     "name": "stdout",
     "output_type": "stream",
     "text": [
      "Epoch [20/150] | Train Loss: 1.0265, Train Acc: 83.96% | Val Loss: 0.9532, Val Acc: 87.41% | Acc Gap: -3.45% | Transform Severity: 1.00\n"
     ]
    },
    {
     "name": "stderr",
     "output_type": "stream",
     "text": [
      "Epoch 21/150 - Training: 100%|██████████| 782/782 [00:33<00:00, 23.16it/s]\n"
     ]
    },
    {
     "name": "stdout",
     "output_type": "stream",
     "text": [
      "Epoch [21/150] | Train Loss: 1.0156, Train Acc: 84.62% | Val Loss: 0.9421, Val Acc: 88.01% | Acc Gap: -3.39% | Transform Severity: 1.00\n"
     ]
    },
    {
     "name": "stderr",
     "output_type": "stream",
     "text": [
      "Epoch 22/150 - Training: 100%|██████████| 782/782 [00:32<00:00, 23.97it/s]\n"
     ]
    },
    {
     "name": "stdout",
     "output_type": "stream",
     "text": [
      "Epoch [22/150] | Train Loss: 1.0220, Train Acc: 84.13% | Val Loss: 0.9366, Val Acc: 88.26% | Acc Gap: -4.13% | Transform Severity: 1.00\n"
     ]
    },
    {
     "name": "stderr",
     "output_type": "stream",
     "text": [
      "Epoch 23/150 - Training: 100%|██████████| 782/782 [00:30<00:00, 25.50it/s]\n"
     ]
    },
    {
     "name": "stdout",
     "output_type": "stream",
     "text": [
      "Epoch [23/150] | Train Loss: 1.0092, Train Acc: 84.92% | Val Loss: 0.9399, Val Acc: 88.16% | Acc Gap: -3.24% | Transform Severity: 1.00\n"
     ]
    },
    {
     "name": "stderr",
     "output_type": "stream",
     "text": [
      "Epoch 24/150 - Training: 100%|██████████| 782/782 [00:32<00:00, 24.15it/s]\n"
     ]
    },
    {
     "name": "stdout",
     "output_type": "stream",
     "text": [
      "Epoch [24/150] | Train Loss: 1.0148, Train Acc: 84.72% | Val Loss: 0.9290, Val Acc: 88.73% | Acc Gap: -4.01% | Transform Severity: 1.00\n",
      "Model checkpoint saved at epoch 24 with val loss 0.9290\n"
     ]
    },
    {
     "name": "stderr",
     "output_type": "stream",
     "text": [
      "Epoch 25/150 - Training: 100%|██████████| 782/782 [00:30<00:00, 25.46it/s]\n"
     ]
    },
    {
     "name": "stdout",
     "output_type": "stream",
     "text": [
      "Epoch [25/150] | Train Loss: 1.0087, Train Acc: 84.96% | Val Loss: 0.9394, Val Acc: 88.12% | Acc Gap: -3.16% | Transform Severity: 1.00\n"
     ]
    },
    {
     "name": "stderr",
     "output_type": "stream",
     "text": [
      "Epoch 26/150 - Training: 100%|██████████| 782/782 [00:31<00:00, 24.76it/s]\n"
     ]
    },
    {
     "name": "stdout",
     "output_type": "stream",
     "text": [
      "Epoch [26/150] | Train Loss: 1.0042, Train Acc: 85.20% | Val Loss: 0.9528, Val Acc: 87.62% | Acc Gap: -2.42% | Transform Severity: 1.00\n"
     ]
    },
    {
     "name": "stderr",
     "output_type": "stream",
     "text": [
      "Epoch 27/150 - Training: 100%|██████████| 782/782 [00:32<00:00, 23.88it/s]\n"
     ]
    },
    {
     "name": "stdout",
     "output_type": "stream",
     "text": [
      "Epoch [27/150] | Train Loss: 1.0014, Train Acc: 85.33% | Val Loss: 0.9157, Val Acc: 89.11% | Acc Gap: -3.78% | Transform Severity: 1.00\n",
      "Model checkpoint saved at epoch 27 with val loss 0.9157\n"
     ]
    },
    {
     "name": "stderr",
     "output_type": "stream",
     "text": [
      "Epoch 28/150 - Training: 100%|██████████| 782/782 [00:31<00:00, 24.91it/s]\n"
     ]
    },
    {
     "name": "stdout",
     "output_type": "stream",
     "text": [
      "Epoch [28/150] | Train Loss: 1.0053, Train Acc: 85.21% | Val Loss: 0.9384, Val Acc: 88.35% | Acc Gap: -3.14% | Transform Severity: 1.00\n"
     ]
    },
    {
     "name": "stderr",
     "output_type": "stream",
     "text": [
      "Epoch 29/150 - Training: 100%|██████████| 782/782 [00:31<00:00, 24.94it/s]\n"
     ]
    },
    {
     "name": "stdout",
     "output_type": "stream",
     "text": [
      "Epoch [29/150] | Train Loss: 0.9950, Train Acc: 85.63% | Val Loss: 0.9341, Val Acc: 88.67% | Acc Gap: -3.04% | Transform Severity: 1.00\n"
     ]
    },
    {
     "name": "stderr",
     "output_type": "stream",
     "text": [
      "Epoch 30/150 - Training: 100%|██████████| 782/782 [00:32<00:00, 24.38it/s]\n"
     ]
    },
    {
     "name": "stdout",
     "output_type": "stream",
     "text": [
      "Epoch [30/150] | Train Loss: 1.0055, Train Acc: 85.01% | Val Loss: 0.9252, Val Acc: 88.65% | Acc Gap: -3.64% | Transform Severity: 1.00\n"
     ]
    },
    {
     "name": "stderr",
     "output_type": "stream",
     "text": [
      "Epoch 31/150 - Training: 100%|██████████| 782/782 [00:33<00:00, 23.62it/s]\n"
     ]
    },
    {
     "name": "stdout",
     "output_type": "stream",
     "text": [
      "Epoch [31/150] | Train Loss: 0.9952, Train Acc: 85.64% | Val Loss: 0.9202, Val Acc: 88.81% | Acc Gap: -3.17% | Transform Severity: 1.00\n"
     ]
    },
    {
     "name": "stderr",
     "output_type": "stream",
     "text": [
      "Epoch 32/150 - Training: 100%|██████████| 782/782 [00:33<00:00, 23.24it/s]\n"
     ]
    },
    {
     "name": "stdout",
     "output_type": "stream",
     "text": [
      "Epoch [32/150] | Train Loss: 0.9910, Train Acc: 85.78% | Val Loss: 0.9483, Val Acc: 87.89% | Acc Gap: -2.11% | Transform Severity: 1.00\n"
     ]
    },
    {
     "name": "stderr",
     "output_type": "stream",
     "text": [
      "Epoch 33/150 - Training: 100%|██████████| 782/782 [00:32<00:00, 24.15it/s]\n"
     ]
    },
    {
     "name": "stdout",
     "output_type": "stream",
     "text": [
      "Epoch [33/150] | Train Loss: 0.9952, Train Acc: 85.58% | Val Loss: 0.8989, Val Acc: 89.93% | Acc Gap: -4.35% | Transform Severity: 1.00\n",
      "Model checkpoint saved at epoch 33 with val loss 0.8989\n"
     ]
    },
    {
     "name": "stderr",
     "output_type": "stream",
     "text": [
      "Epoch 34/150 - Training: 100%|██████████| 782/782 [00:31<00:00, 24.63it/s]\n"
     ]
    },
    {
     "name": "stdout",
     "output_type": "stream",
     "text": [
      "Epoch [34/150] | Train Loss: 0.9914, Train Acc: 85.76% | Val Loss: 0.9341, Val Acc: 88.33% | Acc Gap: -2.57% | Transform Severity: 1.00\n"
     ]
    },
    {
     "name": "stderr",
     "output_type": "stream",
     "text": [
      "Epoch 35/150 - Training: 100%|██████████| 782/782 [00:31<00:00, 24.79it/s]\n"
     ]
    },
    {
     "name": "stdout",
     "output_type": "stream",
     "text": [
      "Epoch [35/150] | Train Loss: 0.9885, Train Acc: 85.85% | Val Loss: 0.9286, Val Acc: 88.68% | Acc Gap: -2.83% | Transform Severity: 1.00\n"
     ]
    },
    {
     "name": "stderr",
     "output_type": "stream",
     "text": [
      "Epoch 36/150 - Training: 100%|██████████| 782/782 [00:31<00:00, 24.63it/s]\n"
     ]
    },
    {
     "name": "stdout",
     "output_type": "stream",
     "text": [
      "Epoch [36/150] | Train Loss: 0.9875, Train Acc: 85.82% | Val Loss: 0.9060, Val Acc: 89.79% | Acc Gap: -3.97% | Transform Severity: 1.00\n"
     ]
    },
    {
     "name": "stderr",
     "output_type": "stream",
     "text": [
      "Epoch 37/150 - Training: 100%|██████████| 782/782 [00:33<00:00, 23.66it/s]\n"
     ]
    },
    {
     "name": "stdout",
     "output_type": "stream",
     "text": [
      "Epoch [37/150] | Train Loss: 0.9889, Train Acc: 85.83% | Val Loss: 0.9167, Val Acc: 89.29% | Acc Gap: -3.46% | Transform Severity: 1.00\n"
     ]
    },
    {
     "name": "stderr",
     "output_type": "stream",
     "text": [
      "Epoch 38/150 - Training: 100%|██████████| 782/782 [00:31<00:00, 24.51it/s]\n"
     ]
    },
    {
     "name": "stdout",
     "output_type": "stream",
     "text": [
      "Epoch [38/150] | Train Loss: 0.9964, Train Acc: 85.54% | Val Loss: 0.9095, Val Acc: 89.35% | Acc Gap: -3.81% | Transform Severity: 1.00\n"
     ]
    },
    {
     "name": "stderr",
     "output_type": "stream",
     "text": [
      "Epoch 39/150 - Training: 100%|██████████| 782/782 [00:32<00:00, 24.38it/s]\n"
     ]
    },
    {
     "name": "stdout",
     "output_type": "stream",
     "text": [
      "Epoch [39/150] | Train Loss: 0.9820, Train Acc: 86.29% | Val Loss: 0.9127, Val Acc: 89.60% | Acc Gap: -3.31% | Transform Severity: 1.00\n"
     ]
    },
    {
     "name": "stderr",
     "output_type": "stream",
     "text": [
      "Epoch 40/150 - Training: 100%|██████████| 782/782 [00:32<00:00, 24.12it/s]\n"
     ]
    },
    {
     "name": "stdout",
     "output_type": "stream",
     "text": [
      "Epoch [40/150] | Train Loss: 0.9856, Train Acc: 86.09% | Val Loss: 0.8912, Val Acc: 90.56% | Acc Gap: -4.47% | Transform Severity: 1.00\n",
      "Model checkpoint saved at epoch 40 with val loss 0.8912\n"
     ]
    },
    {
     "name": "stderr",
     "output_type": "stream",
     "text": [
      "Epoch 41/150 - Training: 100%|██████████| 782/782 [00:31<00:00, 24.77it/s]\n"
     ]
    },
    {
     "name": "stdout",
     "output_type": "stream",
     "text": [
      "Epoch [41/150] | Train Loss: 0.9714, Train Acc: 86.77% | Val Loss: 0.9081, Val Acc: 89.90% | Acc Gap: -3.13% | Transform Severity: 1.00\n"
     ]
    },
    {
     "name": "stderr",
     "output_type": "stream",
     "text": [
      "Epoch 42/150 - Training: 100%|██████████| 782/782 [00:31<00:00, 24.71it/s]\n"
     ]
    },
    {
     "name": "stdout",
     "output_type": "stream",
     "text": [
      "Epoch [42/150] | Train Loss: 0.9851, Train Acc: 85.96% | Val Loss: 0.9263, Val Acc: 88.76% | Acc Gap: -2.80% | Transform Severity: 1.00\n"
     ]
    },
    {
     "name": "stderr",
     "output_type": "stream",
     "text": [
      "Epoch 43/150 - Training: 100%|██████████| 782/782 [00:32<00:00, 24.04it/s]\n"
     ]
    },
    {
     "name": "stdout",
     "output_type": "stream",
     "text": [
      "Epoch [43/150] | Train Loss: 0.9669, Train Acc: 86.99% | Val Loss: 0.9273, Val Acc: 88.89% | Acc Gap: -1.90% | Transform Severity: 1.00\n"
     ]
    },
    {
     "name": "stderr",
     "output_type": "stream",
     "text": [
      "Epoch 44/150 - Training: 100%|██████████| 782/782 [00:32<00:00, 24.15it/s]\n"
     ]
    },
    {
     "name": "stdout",
     "output_type": "stream",
     "text": [
      "Epoch [44/150] | Train Loss: 0.9738, Train Acc: 86.52% | Val Loss: 0.8955, Val Acc: 90.31% | Acc Gap: -3.79% | Transform Severity: 1.00\n"
     ]
    },
    {
     "name": "stderr",
     "output_type": "stream",
     "text": [
      "Epoch 45/150 - Training: 100%|██████████| 782/782 [00:31<00:00, 25.16it/s]\n"
     ]
    },
    {
     "name": "stdout",
     "output_type": "stream",
     "text": [
      "Epoch [45/150] | Train Loss: 0.9679, Train Acc: 86.92% | Val Loss: 0.8863, Val Acc: 90.54% | Acc Gap: -3.62% | Transform Severity: 1.00\n",
      "Model checkpoint saved at epoch 45 with val loss 0.8863\n"
     ]
    },
    {
     "name": "stderr",
     "output_type": "stream",
     "text": [
      "Epoch 46/150 - Training: 100%|██████████| 782/782 [00:31<00:00, 25.16it/s]\n"
     ]
    },
    {
     "name": "stdout",
     "output_type": "stream",
     "text": [
      "Epoch [46/150] | Train Loss: 0.9616, Train Acc: 87.15% | Val Loss: 0.9030, Val Acc: 89.90% | Acc Gap: -2.75% | Transform Severity: 1.00\n"
     ]
    },
    {
     "name": "stderr",
     "output_type": "stream",
     "text": [
      "Epoch 47/150 - Training: 100%|██████████| 782/782 [00:31<00:00, 24.80it/s]\n"
     ]
    },
    {
     "name": "stdout",
     "output_type": "stream",
     "text": [
      "Epoch [47/150] | Train Loss: 0.9738, Train Acc: 86.63% | Val Loss: 0.9057, Val Acc: 89.72% | Acc Gap: -3.09% | Transform Severity: 1.00\n"
     ]
    },
    {
     "name": "stderr",
     "output_type": "stream",
     "text": [
      "Epoch 48/150 - Training: 100%|██████████| 782/782 [00:32<00:00, 24.26it/s]\n"
     ]
    },
    {
     "name": "stdout",
     "output_type": "stream",
     "text": [
      "Epoch [48/150] | Train Loss: 0.9631, Train Acc: 87.07% | Val Loss: 0.8966, Val Acc: 90.00% | Acc Gap: -2.93% | Transform Severity: 1.00\n"
     ]
    },
    {
     "name": "stderr",
     "output_type": "stream",
     "text": [
      "Epoch 49/150 - Training: 100%|██████████| 782/782 [00:34<00:00, 22.72it/s]\n"
     ]
    },
    {
     "name": "stdout",
     "output_type": "stream",
     "text": [
      "Epoch [49/150] | Train Loss: 0.9652, Train Acc: 87.13% | Val Loss: 0.9112, Val Acc: 89.36% | Acc Gap: -2.23% | Transform Severity: 1.00\n"
     ]
    },
    {
     "name": "stderr",
     "output_type": "stream",
     "text": [
      "Epoch 50/150 - Training: 100%|██████████| 782/782 [00:32<00:00, 24.20it/s]\n"
     ]
    },
    {
     "name": "stdout",
     "output_type": "stream",
     "text": [
      "Epoch [50/150] | Train Loss: 0.9692, Train Acc: 86.87% | Val Loss: 0.9154, Val Acc: 89.25% | Acc Gap: -2.38% | Transform Severity: 1.00\n"
     ]
    },
    {
     "name": "stderr",
     "output_type": "stream",
     "text": [
      "Epoch 51/150 - Training: 100%|██████████| 782/782 [00:35<00:00, 22.29it/s]\n"
     ]
    },
    {
     "name": "stdout",
     "output_type": "stream",
     "text": [
      "Epoch [51/150] | Train Loss: 0.9687, Train Acc: 86.94% | Val Loss: 0.9238, Val Acc: 89.02% | Acc Gap: -2.08% | Transform Severity: 1.00\n"
     ]
    },
    {
     "name": "stderr",
     "output_type": "stream",
     "text": [
      "Epoch 52/150 - Training: 100%|██████████| 782/782 [00:31<00:00, 24.59it/s]\n"
     ]
    },
    {
     "name": "stdout",
     "output_type": "stream",
     "text": [
      "Epoch [52/150] | Train Loss: 0.9615, Train Acc: 87.19% | Val Loss: 0.8853, Val Acc: 90.73% | Acc Gap: -3.54% | Transform Severity: 1.00\n",
      "Model checkpoint saved at epoch 52 with val loss 0.8853\n"
     ]
    },
    {
     "name": "stderr",
     "output_type": "stream",
     "text": [
      "Epoch 53/150 - Training: 100%|██████████| 782/782 [00:32<00:00, 24.30it/s]\n"
     ]
    },
    {
     "name": "stdout",
     "output_type": "stream",
     "text": [
      "Epoch [53/150] | Train Loss: 0.9633, Train Acc: 87.11% | Val Loss: 0.8838, Val Acc: 90.68% | Acc Gap: -3.57% | Transform Severity: 1.00\n",
      "Model checkpoint saved at epoch 53 with val loss 0.8838\n"
     ]
    },
    {
     "name": "stderr",
     "output_type": "stream",
     "text": [
      "Epoch 54/150 - Training: 100%|██████████| 782/782 [00:32<00:00, 24.30it/s]\n"
     ]
    },
    {
     "name": "stdout",
     "output_type": "stream",
     "text": [
      "Epoch [54/150] | Train Loss: 0.9544, Train Acc: 87.53% | Val Loss: 0.9019, Val Acc: 90.17% | Acc Gap: -2.64% | Transform Severity: 1.00\n"
     ]
    },
    {
     "name": "stderr",
     "output_type": "stream",
     "text": [
      "Epoch 55/150 - Training: 100%|██████████| 782/782 [00:32<00:00, 23.70it/s]\n"
     ]
    },
    {
     "name": "stdout",
     "output_type": "stream",
     "text": [
      "Epoch [55/150] | Train Loss: 0.9549, Train Acc: 87.51% | Val Loss: 0.8943, Val Acc: 90.26% | Acc Gap: -2.75% | Transform Severity: 1.00\n"
     ]
    },
    {
     "name": "stderr",
     "output_type": "stream",
     "text": [
      "Epoch 56/150 - Training: 100%|██████████| 782/782 [00:31<00:00, 25.15it/s]\n"
     ]
    },
    {
     "name": "stdout",
     "output_type": "stream",
     "text": [
      "Epoch [56/150] | Train Loss: 0.9625, Train Acc: 87.15% | Val Loss: 0.8972, Val Acc: 89.99% | Acc Gap: -2.84% | Transform Severity: 1.00\n"
     ]
    },
    {
     "name": "stderr",
     "output_type": "stream",
     "text": [
      "Epoch 57/150 - Training: 100%|██████████| 782/782 [00:33<00:00, 23.44it/s]\n"
     ]
    },
    {
     "name": "stdout",
     "output_type": "stream",
     "text": [
      "Epoch [57/150] | Train Loss: 0.9655, Train Acc: 87.08% | Val Loss: 0.8963, Val Acc: 90.09% | Acc Gap: -3.01% | Transform Severity: 1.00\n"
     ]
    },
    {
     "name": "stderr",
     "output_type": "stream",
     "text": [
      "Epoch 58/150 - Training: 100%|██████████| 782/782 [00:33<00:00, 23.33it/s]\n"
     ]
    },
    {
     "name": "stdout",
     "output_type": "stream",
     "text": [
      "Epoch [58/150] | Train Loss: 0.9550, Train Acc: 87.36% | Val Loss: 0.8958, Val Acc: 89.99% | Acc Gap: -2.63% | Transform Severity: 1.00\n"
     ]
    },
    {
     "name": "stderr",
     "output_type": "stream",
     "text": [
      "Epoch 59/150 - Training: 100%|██████████| 782/782 [00:32<00:00, 24.36it/s]\n"
     ]
    },
    {
     "name": "stdout",
     "output_type": "stream",
     "text": [
      "Epoch [59/150] | Train Loss: 0.9659, Train Acc: 87.00% | Val Loss: 0.9154, Val Acc: 89.35% | Acc Gap: -2.35% | Transform Severity: 1.00\n"
     ]
    },
    {
     "name": "stderr",
     "output_type": "stream",
     "text": [
      "Epoch 60/150 - Training: 100%|██████████| 782/782 [00:32<00:00, 23.98it/s]\n"
     ]
    },
    {
     "name": "stdout",
     "output_type": "stream",
     "text": [
      "Epoch [60/150] | Train Loss: 0.9566, Train Acc: 87.34% | Val Loss: 0.8986, Val Acc: 89.97% | Acc Gap: -2.63% | Transform Severity: 1.00\n"
     ]
    },
    {
     "name": "stderr",
     "output_type": "stream",
     "text": [
      "Epoch 61/150 - Training: 100%|██████████| 782/782 [00:34<00:00, 22.61it/s]\n"
     ]
    },
    {
     "name": "stdout",
     "output_type": "stream",
     "text": [
      "Epoch [61/150] | Train Loss: 0.9639, Train Acc: 87.09% | Val Loss: 0.9103, Val Acc: 89.56% | Acc Gap: -2.47% | Transform Severity: 1.00\n"
     ]
    },
    {
     "name": "stderr",
     "output_type": "stream",
     "text": [
      "Epoch 62/150 - Training: 100%|██████████| 782/782 [00:32<00:00, 24.17it/s]\n"
     ]
    },
    {
     "name": "stdout",
     "output_type": "stream",
     "text": [
      "Epoch [62/150] | Train Loss: 0.9514, Train Acc: 87.71% | Val Loss: 0.9192, Val Acc: 89.37% | Acc Gap: -1.66% | Transform Severity: 1.00\n"
     ]
    },
    {
     "name": "stderr",
     "output_type": "stream",
     "text": [
      "Epoch 63/150 - Training: 100%|██████████| 782/782 [00:32<00:00, 23.70it/s]\n"
     ]
    },
    {
     "name": "stdout",
     "output_type": "stream",
     "text": [
      "Epoch [63/150] | Train Loss: 0.9514, Train Acc: 87.59% | Val Loss: 0.8779, Val Acc: 91.38% | Acc Gap: -3.79% | Transform Severity: 1.00\n",
      "Model checkpoint saved at epoch 63 with val loss 0.8779\n"
     ]
    },
    {
     "name": "stderr",
     "output_type": "stream",
     "text": [
      "Epoch 64/150 - Training: 100%|██████████| 782/782 [00:32<00:00, 23.85it/s]\n"
     ]
    },
    {
     "name": "stdout",
     "output_type": "stream",
     "text": [
      "Epoch [64/150] | Train Loss: 0.9586, Train Acc: 87.32% | Val Loss: 0.9122, Val Acc: 89.49% | Acc Gap: -2.17% | Transform Severity: 1.00\n"
     ]
    },
    {
     "name": "stderr",
     "output_type": "stream",
     "text": [
      "Epoch 65/150 - Training: 100%|██████████| 782/782 [00:32<00:00, 24.26it/s]\n"
     ]
    },
    {
     "name": "stdout",
     "output_type": "stream",
     "text": [
      "Epoch [65/150] | Train Loss: 0.9608, Train Acc: 87.20% | Val Loss: 0.8929, Val Acc: 90.36% | Acc Gap: -3.16% | Transform Severity: 1.00\n"
     ]
    },
    {
     "name": "stderr",
     "output_type": "stream",
     "text": [
      "Epoch 66/150 - Training: 100%|██████████| 782/782 [00:33<00:00, 23.23it/s]\n"
     ]
    },
    {
     "name": "stdout",
     "output_type": "stream",
     "text": [
      "Epoch [66/150] | Train Loss: 0.9477, Train Acc: 88.03% | Val Loss: 0.8890, Val Acc: 90.59% | Acc Gap: -2.56% | Transform Severity: 1.00\n"
     ]
    },
    {
     "name": "stderr",
     "output_type": "stream",
     "text": [
      "Epoch 67/150 - Training: 100%|██████████| 782/782 [00:33<00:00, 23.43it/s]\n"
     ]
    },
    {
     "name": "stdout",
     "output_type": "stream",
     "text": [
      "Epoch [67/150] | Train Loss: 0.9576, Train Acc: 87.39% | Val Loss: 0.8840, Val Acc: 90.73% | Acc Gap: -3.34% | Transform Severity: 1.00\n"
     ]
    },
    {
     "name": "stderr",
     "output_type": "stream",
     "text": [
      "Epoch 68/150 - Training: 100%|██████████| 782/782 [00:32<00:00, 24.23it/s]\n"
     ]
    },
    {
     "name": "stdout",
     "output_type": "stream",
     "text": [
      "Epoch [68/150] | Train Loss: 0.9509, Train Acc: 87.84% | Val Loss: 0.8792, Val Acc: 91.10% | Acc Gap: -3.26% | Transform Severity: 1.00\n"
     ]
    },
    {
     "name": "stderr",
     "output_type": "stream",
     "text": [
      "Epoch 69/150 - Training: 100%|██████████| 782/782 [00:31<00:00, 25.02it/s]\n"
     ]
    },
    {
     "name": "stdout",
     "output_type": "stream",
     "text": [
      "Epoch [69/150] | Train Loss: 0.9554, Train Acc: 87.38% | Val Loss: 0.9127, Val Acc: 89.65% | Acc Gap: -2.27% | Transform Severity: 1.00\n"
     ]
    },
    {
     "name": "stderr",
     "output_type": "stream",
     "text": [
      "Epoch 70/150 - Training: 100%|██████████| 782/782 [00:31<00:00, 25.17it/s]\n"
     ]
    },
    {
     "name": "stdout",
     "output_type": "stream",
     "text": [
      "Epoch [70/150] | Train Loss: 0.9457, Train Acc: 88.07% | Val Loss: 0.8916, Val Acc: 90.54% | Acc Gap: -2.47% | Transform Severity: 1.00\n"
     ]
    },
    {
     "name": "stderr",
     "output_type": "stream",
     "text": [
      "Epoch 71/150 - Training: 100%|██████████| 782/782 [00:31<00:00, 24.87it/s]\n"
     ]
    },
    {
     "name": "stdout",
     "output_type": "stream",
     "text": [
      "Epoch [71/150] | Train Loss: 0.9453, Train Acc: 87.99% | Val Loss: 0.8877, Val Acc: 90.65% | Acc Gap: -2.66% | Transform Severity: 1.00\n"
     ]
    },
    {
     "name": "stderr",
     "output_type": "stream",
     "text": [
      "Epoch 72/150 - Training: 100%|██████████| 782/782 [00:32<00:00, 24.41it/s]\n"
     ]
    },
    {
     "name": "stdout",
     "output_type": "stream",
     "text": [
      "Epoch [72/150] | Train Loss: 0.9471, Train Acc: 87.98% | Val Loss: 0.8776, Val Acc: 91.10% | Acc Gap: -3.12% | Transform Severity: 1.00\n",
      "Model checkpoint saved at epoch 72 with val loss 0.8776\n"
     ]
    },
    {
     "name": "stderr",
     "output_type": "stream",
     "text": [
      "Epoch 73/150 - Training: 100%|██████████| 782/782 [00:31<00:00, 25.10it/s]\n"
     ]
    },
    {
     "name": "stdout",
     "output_type": "stream",
     "text": [
      "Epoch [73/150] | Train Loss: 0.9423, Train Acc: 88.26% | Val Loss: 0.9098, Val Acc: 89.64% | Acc Gap: -1.38% | Transform Severity: 1.00\n"
     ]
    },
    {
     "name": "stderr",
     "output_type": "stream",
     "text": [
      "Epoch 74/150 - Training: 100%|██████████| 782/782 [00:32<00:00, 24.34it/s]\n"
     ]
    },
    {
     "name": "stdout",
     "output_type": "stream",
     "text": [
      "Epoch [74/150] | Train Loss: 0.9556, Train Acc: 87.46% | Val Loss: 0.8834, Val Acc: 90.79% | Acc Gap: -3.33% | Transform Severity: 1.00\n"
     ]
    },
    {
     "name": "stderr",
     "output_type": "stream",
     "text": [
      "Epoch 75/150 - Training: 100%|██████████| 782/782 [00:31<00:00, 24.56it/s]\n"
     ]
    },
    {
     "name": "stdout",
     "output_type": "stream",
     "text": [
      "Epoch [75/150] | Train Loss: 0.9479, Train Acc: 87.93% | Val Loss: 0.8851, Val Acc: 90.61% | Acc Gap: -2.68% | Transform Severity: 1.00\n"
     ]
    },
    {
     "name": "stderr",
     "output_type": "stream",
     "text": [
      "Epoch 76/150 - Training: 100%|██████████| 782/782 [00:32<00:00, 24.30it/s]\n"
     ]
    },
    {
     "name": "stdout",
     "output_type": "stream",
     "text": [
      "Epoch [76/150] | Train Loss: 0.9435, Train Acc: 88.07% | Val Loss: 0.8956, Val Acc: 90.27% | Acc Gap: -2.20% | Transform Severity: 1.00\n"
     ]
    },
    {
     "name": "stderr",
     "output_type": "stream",
     "text": [
      "Epoch 77/150 - Training: 100%|██████████| 782/782 [00:32<00:00, 24.04it/s]\n"
     ]
    },
    {
     "name": "stdout",
     "output_type": "stream",
     "text": [
      "Epoch [77/150] | Train Loss: 0.9528, Train Acc: 87.66% | Val Loss: 0.8930, Val Acc: 90.44% | Acc Gap: -2.78% | Transform Severity: 1.00\n"
     ]
    },
    {
     "name": "stderr",
     "output_type": "stream",
     "text": [
      "Epoch 78/150 - Training: 100%|██████████| 782/782 [00:34<00:00, 22.82it/s]\n"
     ]
    },
    {
     "name": "stdout",
     "output_type": "stream",
     "text": [
      "Epoch [78/150] | Train Loss: 0.9418, Train Acc: 88.34% | Val Loss: 0.9120, Val Acc: 89.38% | Acc Gap: -1.04% | Transform Severity: 1.00\n"
     ]
    },
    {
     "name": "stderr",
     "output_type": "stream",
     "text": [
      "Epoch 79/150 - Training: 100%|██████████| 782/782 [00:32<00:00, 23.90it/s]\n"
     ]
    },
    {
     "name": "stdout",
     "output_type": "stream",
     "text": [
      "Epoch [79/150] | Train Loss: 0.9510, Train Acc: 87.80% | Val Loss: 0.9514, Val Acc: 87.73% | Acc Gap: 0.07% | Transform Severity: 1.00\n"
     ]
    },
    {
     "name": "stderr",
     "output_type": "stream",
     "text": [
      "Epoch 80/150 - Training: 100%|██████████| 782/782 [00:30<00:00, 25.48it/s]\n"
     ]
    },
    {
     "name": "stdout",
     "output_type": "stream",
     "text": [
      "Epoch [80/150] | Train Loss: 0.9341, Train Acc: 88.58% | Val Loss: 0.8796, Val Acc: 90.75% | Acc Gap: -2.17% | Transform Severity: 1.00\n"
     ]
    },
    {
     "name": "stderr",
     "output_type": "stream",
     "text": [
      "Epoch 81/150 - Training: 100%|██████████| 782/782 [00:31<00:00, 24.45it/s]\n"
     ]
    },
    {
     "name": "stdout",
     "output_type": "stream",
     "text": [
      "Epoch [81/150] | Train Loss: 0.9458, Train Acc: 88.07% | Val Loss: 0.9096, Val Acc: 89.80% | Acc Gap: -1.73% | Transform Severity: 1.00\n"
     ]
    },
    {
     "name": "stderr",
     "output_type": "stream",
     "text": [
      "Epoch 82/150 - Training: 100%|██████████| 782/782 [00:31<00:00, 24.44it/s]\n"
     ]
    },
    {
     "name": "stdout",
     "output_type": "stream",
     "text": [
      "Epoch [82/150] | Train Loss: 0.9464, Train Acc: 87.96% | Val Loss: 0.9229, Val Acc: 89.11% | Acc Gap: -1.15% | Transform Severity: 1.00\n"
     ]
    },
    {
     "name": "stderr",
     "output_type": "stream",
     "text": [
      "Epoch 83/150 - Training: 100%|██████████| 782/782 [00:32<00:00, 24.44it/s]\n"
     ]
    },
    {
     "name": "stdout",
     "output_type": "stream",
     "text": [
      "Epoch [83/150] | Train Loss: 0.9444, Train Acc: 88.03% | Val Loss: 0.8839, Val Acc: 90.56% | Acc Gap: -2.53% | Transform Severity: 1.00\n"
     ]
    },
    {
     "name": "stderr",
     "output_type": "stream",
     "text": [
      "Epoch 84/150 - Training: 100%|██████████| 782/782 [00:30<00:00, 25.34it/s]\n"
     ]
    },
    {
     "name": "stdout",
     "output_type": "stream",
     "text": [
      "Epoch [84/150] | Train Loss: 0.8634, Train Acc: 92.01% | Val Loss: 0.8152, Val Acc: 94.00% | Acc Gap: -1.99% | Transform Severity: 1.00\n",
      "Model checkpoint saved at epoch 84 with val loss 0.8152\n"
     ]
    },
    {
     "name": "stderr",
     "output_type": "stream",
     "text": [
      "Epoch 85/150 - Training: 100%|██████████| 782/782 [00:32<00:00, 24.33it/s]\n"
     ]
    },
    {
     "name": "stdout",
     "output_type": "stream",
     "text": [
      "Epoch [85/150] | Train Loss: 0.8374, Train Acc: 93.37% | Val Loss: 0.8115, Val Acc: 94.21% | Acc Gap: -0.84% | Transform Severity: 1.00\n",
      "Model checkpoint saved at epoch 85 with val loss 0.8115\n"
     ]
    },
    {
     "name": "stderr",
     "output_type": "stream",
     "text": [
      "Epoch 86/150 - Training: 100%|██████████| 782/782 [00:32<00:00, 24.21it/s]\n"
     ]
    },
    {
     "name": "stdout",
     "output_type": "stream",
     "text": [
      "Epoch [86/150] | Train Loss: 0.8308, Train Acc: 93.71% | Val Loss: 0.8045, Val Acc: 94.42% | Acc Gap: -0.71% | Transform Severity: 1.00\n",
      "Model checkpoint saved at epoch 86 with val loss 0.8045\n"
     ]
    },
    {
     "name": "stderr",
     "output_type": "stream",
     "text": [
      "Epoch 87/150 - Training: 100%|██████████| 782/782 [00:31<00:00, 24.66it/s]\n"
     ]
    },
    {
     "name": "stdout",
     "output_type": "stream",
     "text": [
      "Epoch [87/150] | Train Loss: 0.8259, Train Acc: 93.91% | Val Loss: 0.8028, Val Acc: 94.74% | Acc Gap: -0.83% | Transform Severity: 1.00\n",
      "Model checkpoint saved at epoch 87 with val loss 0.8028\n"
     ]
    },
    {
     "name": "stderr",
     "output_type": "stream",
     "text": [
      "Epoch 88/150 - Training: 100%|██████████| 782/782 [00:31<00:00, 24.94it/s]\n"
     ]
    },
    {
     "name": "stdout",
     "output_type": "stream",
     "text": [
      "Epoch [88/150] | Train Loss: 0.8185, Train Acc: 94.38% | Val Loss: 0.8063, Val Acc: 94.37% | Acc Gap: 0.01% | Transform Severity: 1.00\n"
     ]
    },
    {
     "name": "stderr",
     "output_type": "stream",
     "text": [
      "Epoch 89/150 - Training: 100%|██████████| 782/782 [00:32<00:00, 23.88it/s]\n"
     ]
    },
    {
     "name": "stdout",
     "output_type": "stream",
     "text": [
      "Epoch [89/150] | Train Loss: 0.8130, Train Acc: 94.59% | Val Loss: 0.7990, Val Acc: 94.94% | Acc Gap: -0.35% | Transform Severity: 1.00\n",
      "Model checkpoint saved at epoch 89 with val loss 0.7990\n"
     ]
    },
    {
     "name": "stderr",
     "output_type": "stream",
     "text": [
      "Epoch 90/150 - Training: 100%|██████████| 782/782 [00:31<00:00, 24.77it/s]\n"
     ]
    },
    {
     "name": "stdout",
     "output_type": "stream",
     "text": [
      "Epoch [90/150] | Train Loss: 0.8090, Train Acc: 94.87% | Val Loss: 0.8004, Val Acc: 94.83% | Acc Gap: 0.04% | Transform Severity: 1.00\n"
     ]
    },
    {
     "name": "stderr",
     "output_type": "stream",
     "text": [
      "Epoch 91/150 - Training: 100%|██████████| 782/782 [00:30<00:00, 25.47it/s]\n"
     ]
    },
    {
     "name": "stdout",
     "output_type": "stream",
     "text": [
      "Epoch [91/150] | Train Loss: 0.8050, Train Acc: 94.96% | Val Loss: 0.7993, Val Acc: 94.74% | Acc Gap: 0.22% | Transform Severity: 1.00\n"
     ]
    },
    {
     "name": "stderr",
     "output_type": "stream",
     "text": [
      "Epoch 92/150 - Training: 100%|██████████| 782/782 [00:31<00:00, 24.62it/s]\n"
     ]
    },
    {
     "name": "stdout",
     "output_type": "stream",
     "text": [
      "Epoch [92/150] | Train Loss: 0.8043, Train Acc: 95.05% | Val Loss: 0.7980, Val Acc: 94.95% | Acc Gap: 0.10% | Transform Severity: 1.00\n",
      "Model checkpoint saved at epoch 92 with val loss 0.7980\n"
     ]
    },
    {
     "name": "stderr",
     "output_type": "stream",
     "text": [
      "Epoch 93/150 - Training: 100%|██████████| 782/782 [00:34<00:00, 22.86it/s]\n"
     ]
    },
    {
     "name": "stdout",
     "output_type": "stream",
     "text": [
      "Epoch [93/150] | Train Loss: 0.7983, Train Acc: 95.23% | Val Loss: 0.8000, Val Acc: 94.83% | Acc Gap: 0.40% | Transform Severity: 1.00\n"
     ]
    },
    {
     "name": "stderr",
     "output_type": "stream",
     "text": [
      "Epoch 94/150 - Training: 100%|██████████| 782/782 [00:31<00:00, 24.70it/s]\n"
     ]
    },
    {
     "name": "stdout",
     "output_type": "stream",
     "text": [
      "Epoch [94/150] | Train Loss: 0.8004, Train Acc: 95.20% | Val Loss: 0.7949, Val Acc: 95.22% | Acc Gap: -0.02% | Transform Severity: 1.00\n",
      "Model checkpoint saved at epoch 94 with val loss 0.7949\n"
     ]
    },
    {
     "name": "stderr",
     "output_type": "stream",
     "text": [
      "Epoch 95/150 - Training: 100%|██████████| 782/782 [00:30<00:00, 25.43it/s]\n"
     ]
    },
    {
     "name": "stdout",
     "output_type": "stream",
     "text": [
      "Epoch [95/150] | Train Loss: 0.7937, Train Acc: 95.47% | Val Loss: 0.7997, Val Acc: 95.03% | Acc Gap: 0.44% | Transform Severity: 1.00\n"
     ]
    },
    {
     "name": "stderr",
     "output_type": "stream",
     "text": [
      "Epoch 96/150 - Training: 100%|██████████| 782/782 [00:31<00:00, 25.12it/s]\n"
     ]
    },
    {
     "name": "stdout",
     "output_type": "stream",
     "text": [
      "Epoch [96/150] | Train Loss: 0.7934, Train Acc: 95.50% | Val Loss: 0.7989, Val Acc: 94.86% | Acc Gap: 0.64% | Transform Severity: 1.00\n"
     ]
    },
    {
     "name": "stderr",
     "output_type": "stream",
     "text": [
      "Epoch 97/150 - Training: 100%|██████████| 782/782 [00:31<00:00, 25.18it/s]\n"
     ]
    },
    {
     "name": "stdout",
     "output_type": "stream",
     "text": [
      "Epoch [97/150] | Train Loss: 0.7901, Train Acc: 95.70% | Val Loss: 0.8013, Val Acc: 94.80% | Acc Gap: 0.90% | Transform Severity: 1.00\n"
     ]
    },
    {
     "name": "stderr",
     "output_type": "stream",
     "text": [
      "Epoch 98/150 - Training: 100%|██████████| 782/782 [00:31<00:00, 24.78it/s]\n"
     ]
    },
    {
     "name": "stdout",
     "output_type": "stream",
     "text": [
      "Epoch [98/150] | Train Loss: 0.7901, Train Acc: 95.67% | Val Loss: 0.8010, Val Acc: 94.87% | Acc Gap: 0.80% | Transform Severity: 1.00\n"
     ]
    },
    {
     "name": "stderr",
     "output_type": "stream",
     "text": [
      "Epoch 99/150 - Training: 100%|██████████| 782/782 [00:30<00:00, 25.24it/s]\n"
     ]
    },
    {
     "name": "stdout",
     "output_type": "stream",
     "text": [
      "Epoch [99/150] | Train Loss: 0.7942, Train Acc: 95.47% | Val Loss: 0.8086, Val Acc: 94.62% | Acc Gap: 0.85% | Transform Severity: 1.00\n"
     ]
    },
    {
     "name": "stderr",
     "output_type": "stream",
     "text": [
      "Epoch 100/150 - Training: 100%|██████████| 782/782 [00:31<00:00, 24.47it/s]\n"
     ]
    },
    {
     "name": "stdout",
     "output_type": "stream",
     "text": [
      "Epoch [100/150] | Train Loss: 0.7867, Train Acc: 95.81% | Val Loss: 0.7943, Val Acc: 95.10% | Acc Gap: 0.71% | Transform Severity: 1.00\n",
      "Model checkpoint saved at epoch 100 with val loss 0.7943\n"
     ]
    },
    {
     "name": "stderr",
     "output_type": "stream",
     "text": [
      "Epoch 101/150 - Training: 100%|██████████| 782/782 [00:34<00:00, 22.59it/s]\n"
     ]
    },
    {
     "name": "stdout",
     "output_type": "stream",
     "text": [
      "Epoch [101/150] | Train Loss: 0.7879, Train Acc: 95.76% | Val Loss: 0.7973, Val Acc: 95.08% | Acc Gap: 0.68% | Transform Severity: 1.00\n"
     ]
    },
    {
     "name": "stderr",
     "output_type": "stream",
     "text": [
      "Epoch 102/150 - Training: 100%|██████████| 782/782 [00:31<00:00, 24.79it/s]\n"
     ]
    },
    {
     "name": "stdout",
     "output_type": "stream",
     "text": [
      "Epoch [102/150] | Train Loss: 0.7903, Train Acc: 95.65% | Val Loss: 0.7992, Val Acc: 95.08% | Acc Gap: 0.57% | Transform Severity: 1.00\n"
     ]
    },
    {
     "name": "stderr",
     "output_type": "stream",
     "text": [
      "Epoch 103/150 - Training: 100%|██████████| 782/782 [00:32<00:00, 24.36it/s]\n"
     ]
    },
    {
     "name": "stdout",
     "output_type": "stream",
     "text": [
      "Epoch [103/150] | Train Loss: 0.7873, Train Acc: 95.75% | Val Loss: 0.7977, Val Acc: 94.94% | Acc Gap: 0.81% | Transform Severity: 1.00\n"
     ]
    },
    {
     "name": "stderr",
     "output_type": "stream",
     "text": [
      "Epoch 104/150 - Training: 100%|██████████| 782/782 [00:31<00:00, 25.18it/s]\n"
     ]
    },
    {
     "name": "stdout",
     "output_type": "stream",
     "text": [
      "Epoch [104/150] | Train Loss: 0.7847, Train Acc: 95.96% | Val Loss: 0.8058, Val Acc: 94.48% | Acc Gap: 1.48% | Transform Severity: 1.00\n"
     ]
    },
    {
     "name": "stderr",
     "output_type": "stream",
     "text": [
      "Epoch 105/150 - Training: 100%|██████████| 782/782 [00:33<00:00, 23.49it/s]\n"
     ]
    },
    {
     "name": "stdout",
     "output_type": "stream",
     "text": [
      "Epoch [105/150] | Train Loss: 0.7877, Train Acc: 95.79% | Val Loss: 0.7979, Val Acc: 94.91% | Acc Gap: 0.88% | Transform Severity: 1.00\n"
     ]
    },
    {
     "name": "stderr",
     "output_type": "stream",
     "text": [
      "Epoch 106/150 - Training: 100%|██████████| 782/782 [00:32<00:00, 24.27it/s]\n"
     ]
    },
    {
     "name": "stdout",
     "output_type": "stream",
     "text": [
      "Epoch [106/150] | Train Loss: 0.7840, Train Acc: 96.06% | Val Loss: 0.7989, Val Acc: 95.13% | Acc Gap: 0.93% | Transform Severity: 1.00\n"
     ]
    },
    {
     "name": "stderr",
     "output_type": "stream",
     "text": [
      "Epoch 107/150 - Training: 100%|██████████| 782/782 [00:31<00:00, 24.52it/s]\n"
     ]
    },
    {
     "name": "stdout",
     "output_type": "stream",
     "text": [
      "Epoch [107/150] | Train Loss: 0.7907, Train Acc: 95.53% | Val Loss: 0.8000, Val Acc: 94.85% | Acc Gap: 0.68% | Transform Severity: 1.00\n"
     ]
    },
    {
     "name": "stderr",
     "output_type": "stream",
     "text": [
      "Epoch 108/150 - Training: 100%|██████████| 782/782 [00:31<00:00, 24.76it/s]\n"
     ]
    },
    {
     "name": "stdout",
     "output_type": "stream",
     "text": [
      "Epoch [108/150] | Train Loss: 0.7830, Train Acc: 96.00% | Val Loss: 0.8002, Val Acc: 95.00% | Acc Gap: 1.00% | Transform Severity: 1.00\n"
     ]
    },
    {
     "name": "stderr",
     "output_type": "stream",
     "text": [
      "Epoch 109/150 - Training: 100%|██████████| 782/782 [00:31<00:00, 24.69it/s]\n"
     ]
    },
    {
     "name": "stdout",
     "output_type": "stream",
     "text": [
      "Epoch [109/150] | Train Loss: 0.7781, Train Acc: 96.22% | Val Loss: 0.8171, Val Acc: 94.24% | Acc Gap: 1.98% | Transform Severity: 1.00\n"
     ]
    },
    {
     "name": "stderr",
     "output_type": "stream",
     "text": [
      "Epoch 110/150 - Training: 100%|██████████| 782/782 [00:33<00:00, 23.61it/s]\n"
     ]
    },
    {
     "name": "stdout",
     "output_type": "stream",
     "text": [
      "Epoch [110/150] | Train Loss: 0.7874, Train Acc: 95.75% | Val Loss: 0.8070, Val Acc: 94.61% | Acc Gap: 1.14% | Transform Severity: 1.00\n"
     ]
    },
    {
     "name": "stderr",
     "output_type": "stream",
     "text": [
      "Epoch 111/150 - Training: 100%|██████████| 782/782 [00:32<00:00, 24.07it/s]\n"
     ]
    },
    {
     "name": "stdout",
     "output_type": "stream",
     "text": [
      "Epoch [111/150] | Train Loss: 0.7732, Train Acc: 96.52% | Val Loss: 0.7977, Val Acc: 95.18% | Acc Gap: 1.34% | Transform Severity: 1.00\n"
     ]
    },
    {
     "name": "stderr",
     "output_type": "stream",
     "text": [
      "Epoch 112/150 - Training: 100%|██████████| 782/782 [00:33<00:00, 23.11it/s]\n"
     ]
    },
    {
     "name": "stdout",
     "output_type": "stream",
     "text": [
      "Epoch [112/150] | Train Loss: 0.7761, Train Acc: 96.35% | Val Loss: 0.8001, Val Acc: 95.08% | Acc Gap: 1.27% | Transform Severity: 1.00\n"
     ]
    },
    {
     "name": "stderr",
     "output_type": "stream",
     "text": [
      "Epoch 113/150 - Training: 100%|██████████| 782/782 [00:33<00:00, 23.44it/s]\n"
     ]
    },
    {
     "name": "stdout",
     "output_type": "stream",
     "text": [
      "Epoch [113/150] | Train Loss: 0.7702, Train Acc: 96.65% | Val Loss: 0.8001, Val Acc: 95.05% | Acc Gap: 1.60% | Transform Severity: 1.00\n"
     ]
    },
    {
     "name": "stderr",
     "output_type": "stream",
     "text": [
      "Epoch 114/150 - Training: 100%|██████████| 782/782 [00:32<00:00, 24.27it/s]\n"
     ]
    },
    {
     "name": "stdout",
     "output_type": "stream",
     "text": [
      "Epoch [114/150] | Train Loss: 0.7752, Train Acc: 96.45% | Val Loss: 0.7943, Val Acc: 95.25% | Acc Gap: 1.20% | Transform Severity: 1.00\n"
     ]
    },
    {
     "name": "stderr",
     "output_type": "stream",
     "text": [
      "Epoch 115/150 - Training: 100%|██████████| 782/782 [00:33<00:00, 23.24it/s]\n"
     ]
    },
    {
     "name": "stdout",
     "output_type": "stream",
     "text": [
      "Epoch [115/150] | Train Loss: 0.7742, Train Acc: 96.46% | Val Loss: 0.7984, Val Acc: 95.12% | Acc Gap: 1.34% | Transform Severity: 1.00\n"
     ]
    },
    {
     "name": "stderr",
     "output_type": "stream",
     "text": [
      "Epoch 116/150 - Training: 100%|██████████| 782/782 [00:33<00:00, 23.53it/s]\n"
     ]
    },
    {
     "name": "stdout",
     "output_type": "stream",
     "text": [
      "Epoch [116/150] | Train Loss: 0.7710, Train Acc: 96.60% | Val Loss: 0.7940, Val Acc: 95.41% | Acc Gap: 1.19% | Transform Severity: 1.00\n",
      "Model checkpoint saved at epoch 116 with val loss 0.7940\n"
     ]
    },
    {
     "name": "stderr",
     "output_type": "stream",
     "text": [
      "Epoch 117/150 - Training: 100%|██████████| 782/782 [00:31<00:00, 24.79it/s]\n"
     ]
    },
    {
     "name": "stdout",
     "output_type": "stream",
     "text": [
      "Epoch [117/150] | Train Loss: 0.7690, Train Acc: 96.71% | Val Loss: 0.7945, Val Acc: 95.24% | Acc Gap: 1.47% | Transform Severity: 1.00\n"
     ]
    },
    {
     "name": "stderr",
     "output_type": "stream",
     "text": [
      "Epoch 118/150 - Training: 100%|██████████| 782/782 [00:34<00:00, 22.76it/s]\n"
     ]
    },
    {
     "name": "stdout",
     "output_type": "stream",
     "text": [
      "Epoch [118/150] | Train Loss: 0.7689, Train Acc: 96.72% | Val Loss: 0.7989, Val Acc: 94.92% | Acc Gap: 1.80% | Transform Severity: 1.00\n"
     ]
    },
    {
     "name": "stderr",
     "output_type": "stream",
     "text": [
      "Epoch 119/150 - Training: 100%|██████████| 782/782 [00:33<00:00, 23.00it/s]\n"
     ]
    },
    {
     "name": "stdout",
     "output_type": "stream",
     "text": [
      "Epoch [119/150] | Train Loss: 0.7679, Train Acc: 96.72% | Val Loss: 0.8088, Val Acc: 94.46% | Acc Gap: 2.26% | Transform Severity: 1.00\n",
      "Acc gap 2.26% > 2.0, increased transform severity to 1.01\n"
     ]
    },
    {
     "name": "stderr",
     "output_type": "stream",
     "text": [
      "Epoch 120/150 - Training: 100%|██████████| 782/782 [00:31<00:00, 24.90it/s]\n"
     ]
    },
    {
     "name": "stdout",
     "output_type": "stream",
     "text": [
      "Epoch [120/150] | Train Loss: 0.7653, Train Acc: 96.87% | Val Loss: 0.7934, Val Acc: 95.36% | Acc Gap: 1.51% | Transform Severity: 1.01\n",
      "Model checkpoint saved at epoch 120 with val loss 0.7934\n"
     ]
    },
    {
     "name": "stderr",
     "output_type": "stream",
     "text": [
      "Epoch 121/150 - Training: 100%|██████████| 782/782 [00:31<00:00, 24.47it/s]\n"
     ]
    },
    {
     "name": "stdout",
     "output_type": "stream",
     "text": [
      "Epoch [121/150] | Train Loss: 0.7727, Train Acc: 96.58% | Val Loss: 0.8011, Val Acc: 94.87% | Acc Gap: 1.71% | Transform Severity: 1.01\n"
     ]
    },
    {
     "name": "stderr",
     "output_type": "stream",
     "text": [
      "Epoch 122/150 - Training: 100%|██████████| 782/782 [00:31<00:00, 24.44it/s]\n"
     ]
    },
    {
     "name": "stdout",
     "output_type": "stream",
     "text": [
      "Epoch [122/150] | Train Loss: 0.7679, Train Acc: 96.69% | Val Loss: 0.7939, Val Acc: 95.37% | Acc Gap: 1.32% | Transform Severity: 1.01\n"
     ]
    },
    {
     "name": "stderr",
     "output_type": "stream",
     "text": [
      "Epoch 123/150 - Training: 100%|██████████| 782/782 [00:31<00:00, 24.84it/s]\n"
     ]
    },
    {
     "name": "stdout",
     "output_type": "stream",
     "text": [
      "Epoch [123/150] | Train Loss: 0.7669, Train Acc: 96.84% | Val Loss: 0.7950, Val Acc: 95.23% | Acc Gap: 1.61% | Transform Severity: 1.01\n"
     ]
    },
    {
     "name": "stderr",
     "output_type": "stream",
     "text": [
      "Epoch 124/150 - Training: 100%|██████████| 782/782 [00:30<00:00, 25.45it/s]\n"
     ]
    },
    {
     "name": "stdout",
     "output_type": "stream",
     "text": [
      "Epoch [124/150] | Train Loss: 0.7610, Train Acc: 97.07% | Val Loss: 0.7920, Val Acc: 95.32% | Acc Gap: 1.75% | Transform Severity: 1.01\n",
      "Model checkpoint saved at epoch 124 with val loss 0.7920\n"
     ]
    },
    {
     "name": "stderr",
     "output_type": "stream",
     "text": [
      "Epoch 125/150 - Training: 100%|██████████| 782/782 [00:31<00:00, 24.47it/s]\n"
     ]
    },
    {
     "name": "stdout",
     "output_type": "stream",
     "text": [
      "Epoch [125/150] | Train Loss: 0.7675, Train Acc: 96.77% | Val Loss: 0.7984, Val Acc: 95.03% | Acc Gap: 1.74% | Transform Severity: 1.01\n"
     ]
    },
    {
     "name": "stderr",
     "output_type": "stream",
     "text": [
      "Epoch 126/150 - Training: 100%|██████████| 782/782 [00:32<00:00, 24.22it/s]\n"
     ]
    },
    {
     "name": "stdout",
     "output_type": "stream",
     "text": [
      "Epoch [126/150] | Train Loss: 0.7697, Train Acc: 96.62% | Val Loss: 0.7991, Val Acc: 94.94% | Acc Gap: 1.68% | Transform Severity: 1.01\n"
     ]
    },
    {
     "name": "stderr",
     "output_type": "stream",
     "text": [
      "Epoch 127/150 - Training: 100%|██████████| 782/782 [00:31<00:00, 24.60it/s]\n"
     ]
    },
    {
     "name": "stdout",
     "output_type": "stream",
     "text": [
      "Epoch [127/150] | Train Loss: 0.7611, Train Acc: 97.08% | Val Loss: 0.7926, Val Acc: 95.36% | Acc Gap: 1.72% | Transform Severity: 1.01\n"
     ]
    },
    {
     "name": "stderr",
     "output_type": "stream",
     "text": [
      "Epoch 128/150 - Training: 100%|██████████| 782/782 [00:31<00:00, 24.55it/s]\n"
     ]
    },
    {
     "name": "stdout",
     "output_type": "stream",
     "text": [
      "Epoch [128/150] | Train Loss: 0.7630, Train Acc: 97.06% | Val Loss: 0.7947, Val Acc: 95.20% | Acc Gap: 1.86% | Transform Severity: 1.01\n"
     ]
    },
    {
     "name": "stderr",
     "output_type": "stream",
     "text": [
      "Epoch 129/150 - Training: 100%|██████████| 782/782 [00:31<00:00, 24.60it/s]\n"
     ]
    },
    {
     "name": "stdout",
     "output_type": "stream",
     "text": [
      "Epoch [129/150] | Train Loss: 0.7613, Train Acc: 97.10% | Val Loss: 0.7964, Val Acc: 95.17% | Acc Gap: 1.93% | Transform Severity: 1.01\n"
     ]
    },
    {
     "name": "stderr",
     "output_type": "stream",
     "text": [
      "Epoch 130/150 - Training: 100%|██████████| 782/782 [00:34<00:00, 22.79it/s]\n"
     ]
    },
    {
     "name": "stdout",
     "output_type": "stream",
     "text": [
      "Epoch [130/150] | Train Loss: 0.7711, Train Acc: 96.49% | Val Loss: 0.8035, Val Acc: 94.97% | Acc Gap: 1.52% | Transform Severity: 1.01\n"
     ]
    },
    {
     "name": "stderr",
     "output_type": "stream",
     "text": [
      "Epoch 131/150 - Training: 100%|██████████| 782/782 [00:32<00:00, 23.85it/s]\n"
     ]
    },
    {
     "name": "stdout",
     "output_type": "stream",
     "text": [
      "Epoch [131/150] | Train Loss: 0.7644, Train Acc: 96.96% | Val Loss: 0.7967, Val Acc: 94.98% | Acc Gap: 1.98% | Transform Severity: 1.01\n"
     ]
    },
    {
     "name": "stderr",
     "output_type": "stream",
     "text": [
      "Epoch 132/150 - Training: 100%|██████████| 782/782 [00:33<00:00, 23.02it/s]\n"
     ]
    },
    {
     "name": "stdout",
     "output_type": "stream",
     "text": [
      "Epoch [132/150] | Train Loss: 0.7642, Train Acc: 96.87% | Val Loss: 0.7965, Val Acc: 95.05% | Acc Gap: 1.82% | Transform Severity: 1.01\n"
     ]
    },
    {
     "name": "stderr",
     "output_type": "stream",
     "text": [
      "Epoch 133/150 - Training: 100%|██████████| 782/782 [00:32<00:00, 24.40it/s]\n"
     ]
    },
    {
     "name": "stdout",
     "output_type": "stream",
     "text": [
      "Epoch [133/150] | Train Loss: 0.7641, Train Acc: 96.90% | Val Loss: 0.7926, Val Acc: 95.31% | Acc Gap: 1.59% | Transform Severity: 1.01\n"
     ]
    },
    {
     "name": "stderr",
     "output_type": "stream",
     "text": [
      "Epoch 134/150 - Training: 100%|██████████| 782/782 [00:32<00:00, 24.25it/s]\n"
     ]
    },
    {
     "name": "stdout",
     "output_type": "stream",
     "text": [
      "Epoch [134/150] | Train Loss: 0.7647, Train Acc: 96.91% | Val Loss: 0.8041, Val Acc: 94.69% | Acc Gap: 2.22% | Transform Severity: 1.01\n",
      "Acc gap 2.22% > 2.0, increased transform severity to 1.02\n"
     ]
    },
    {
     "name": "stderr",
     "output_type": "stream",
     "text": [
      "Epoch 135/150 - Training: 100%|██████████| 782/782 [00:31<00:00, 24.54it/s]\n"
     ]
    },
    {
     "name": "stdout",
     "output_type": "stream",
     "text": [
      "Epoch [135/150] | Train Loss: 0.7672, Train Acc: 96.74% | Val Loss: 0.8017, Val Acc: 94.87% | Acc Gap: 1.87% | Transform Severity: 1.02\n"
     ]
    },
    {
     "name": "stderr",
     "output_type": "stream",
     "text": [
      "Epoch 136/150 - Training: 100%|██████████| 782/782 [00:34<00:00, 22.99it/s]\n"
     ]
    },
    {
     "name": "stdout",
     "output_type": "stream",
     "text": [
      "Epoch [136/150] | Train Loss: 0.7641, Train Acc: 96.92% | Val Loss: 0.8091, Val Acc: 94.53% | Acc Gap: 2.39% | Transform Severity: 1.02\n",
      "Acc gap 2.39% > 2.0, increased transform severity to 1.04\n"
     ]
    },
    {
     "name": "stderr",
     "output_type": "stream",
     "text": [
      "Epoch 137/150 - Training: 100%|██████████| 782/782 [00:32<00:00, 24.08it/s]\n"
     ]
    },
    {
     "name": "stdout",
     "output_type": "stream",
     "text": [
      "Epoch [137/150] | Train Loss: 0.7626, Train Acc: 96.97% | Val Loss: 0.8024, Val Acc: 94.81% | Acc Gap: 2.16% | Transform Severity: 1.04\n",
      "Acc gap 2.16% > 2.0, increased transform severity to 1.05\n"
     ]
    },
    {
     "name": "stderr",
     "output_type": "stream",
     "text": [
      "Epoch 138/150 - Training: 100%|██████████| 782/782 [00:32<00:00, 24.01it/s]\n"
     ]
    },
    {
     "name": "stdout",
     "output_type": "stream",
     "text": [
      "Epoch [138/150] | Train Loss: 0.7658, Train Acc: 96.87% | Val Loss: 0.7949, Val Acc: 95.16% | Acc Gap: 1.71% | Transform Severity: 1.05\n"
     ]
    },
    {
     "name": "stderr",
     "output_type": "stream",
     "text": [
      "Epoch 139/150 - Training: 100%|██████████| 782/782 [00:32<00:00, 23.87it/s]\n"
     ]
    },
    {
     "name": "stdout",
     "output_type": "stream",
     "text": [
      "Epoch [139/150] | Train Loss: 0.7687, Train Acc: 96.76% | Val Loss: 0.7919, Val Acc: 95.38% | Acc Gap: 1.38% | Transform Severity: 1.05\n",
      "Model checkpoint saved at epoch 139 with val loss 0.7919\n"
     ]
    },
    {
     "name": "stderr",
     "output_type": "stream",
     "text": [
      "Epoch 140/150 - Training: 100%|██████████| 782/782 [00:32<00:00, 23.75it/s]\n"
     ]
    },
    {
     "name": "stdout",
     "output_type": "stream",
     "text": [
      "Epoch [140/150] | Train Loss: 0.7655, Train Acc: 96.86% | Val Loss: 0.7909, Val Acc: 95.58% | Acc Gap: 1.28% | Transform Severity: 1.05\n",
      "Model checkpoint saved at epoch 140 with val loss 0.7909\n"
     ]
    },
    {
     "name": "stderr",
     "output_type": "stream",
     "text": [
      "Epoch 141/150 - Training: 100%|██████████| 782/782 [00:32<00:00, 24.31it/s]\n"
     ]
    },
    {
     "name": "stdout",
     "output_type": "stream",
     "text": [
      "Epoch [141/150] | Train Loss: 0.7670, Train Acc: 96.80% | Val Loss: 0.7930, Val Acc: 95.40% | Acc Gap: 1.40% | Transform Severity: 1.05\n"
     ]
    },
    {
     "name": "stderr",
     "output_type": "stream",
     "text": [
      "Epoch 142/150 - Training: 100%|██████████| 782/782 [00:32<00:00, 23.90it/s]\n"
     ]
    },
    {
     "name": "stdout",
     "output_type": "stream",
     "text": [
      "Epoch [142/150] | Train Loss: 0.7666, Train Acc: 96.77% | Val Loss: 0.7942, Val Acc: 95.23% | Acc Gap: 1.54% | Transform Severity: 1.05\n"
     ]
    },
    {
     "name": "stderr",
     "output_type": "stream",
     "text": [
      "Epoch 143/150 - Training: 100%|██████████| 782/782 [00:32<00:00, 24.33it/s]\n"
     ]
    },
    {
     "name": "stdout",
     "output_type": "stream",
     "text": [
      "Epoch [143/150] | Train Loss: 0.7661, Train Acc: 96.76% | Val Loss: 0.7943, Val Acc: 95.25% | Acc Gap: 1.51% | Transform Severity: 1.05\n"
     ]
    },
    {
     "name": "stderr",
     "output_type": "stream",
     "text": [
      "Epoch 144/150 - Training: 100%|██████████| 782/782 [00:33<00:00, 23.28it/s]\n"
     ]
    },
    {
     "name": "stdout",
     "output_type": "stream",
     "text": [
      "Epoch [144/150] | Train Loss: 0.7659, Train Acc: 96.86% | Val Loss: 0.7950, Val Acc: 95.21% | Acc Gap: 1.65% | Transform Severity: 1.05\n"
     ]
    },
    {
     "name": "stderr",
     "output_type": "stream",
     "text": [
      "Epoch 145/150 - Training: 100%|██████████| 782/782 [00:31<00:00, 24.56it/s]\n"
     ]
    },
    {
     "name": "stdout",
     "output_type": "stream",
     "text": [
      "Epoch [145/150] | Train Loss: 0.7608, Train Acc: 97.10% | Val Loss: 0.7924, Val Acc: 95.45% | Acc Gap: 1.65% | Transform Severity: 1.05\n"
     ]
    },
    {
     "name": "stderr",
     "output_type": "stream",
     "text": [
      "Epoch 146/150 - Training: 100%|██████████| 782/782 [00:31<00:00, 24.93it/s]\n"
     ]
    },
    {
     "name": "stdout",
     "output_type": "stream",
     "text": [
      "Epoch [146/150] | Train Loss: 0.7628, Train Acc: 96.97% | Val Loss: 0.7932, Val Acc: 95.27% | Acc Gap: 1.70% | Transform Severity: 1.05\n"
     ]
    },
    {
     "name": "stderr",
     "output_type": "stream",
     "text": [
      "Epoch 147/150 - Training: 100%|██████████| 782/782 [00:30<00:00, 25.33it/s]\n"
     ]
    },
    {
     "name": "stdout",
     "output_type": "stream",
     "text": [
      "Epoch [147/150] | Train Loss: 0.7611, Train Acc: 97.09% | Val Loss: 0.7916, Val Acc: 95.43% | Acc Gap: 1.66% | Transform Severity: 1.05\n"
     ]
    },
    {
     "name": "stderr",
     "output_type": "stream",
     "text": [
      "Epoch 148/150 - Training: 100%|██████████| 782/782 [00:32<00:00, 24.19it/s]\n"
     ]
    },
    {
     "name": "stdout",
     "output_type": "stream",
     "text": [
      "Epoch [148/150] | Train Loss: 0.7623, Train Acc: 97.05% | Val Loss: 0.7903, Val Acc: 95.54% | Acc Gap: 1.51% | Transform Severity: 1.05\n",
      "Model checkpoint saved at epoch 148 with val loss 0.7903\n"
     ]
    },
    {
     "name": "stderr",
     "output_type": "stream",
     "text": [
      "Epoch 149/150 - Training: 100%|██████████| 782/782 [00:32<00:00, 24.05it/s]\n"
     ]
    },
    {
     "name": "stdout",
     "output_type": "stream",
     "text": [
      "Epoch [149/150] | Train Loss: 0.7670, Train Acc: 96.78% | Val Loss: 0.7926, Val Acc: 95.38% | Acc Gap: 1.40% | Transform Severity: 1.05\n"
     ]
    },
    {
     "name": "stderr",
     "output_type": "stream",
     "text": [
      "Epoch 150/150 - Training: 100%|██████████| 782/782 [00:33<00:00, 23.69it/s]\n"
     ]
    },
    {
     "name": "stdout",
     "output_type": "stream",
     "text": [
      "Epoch [150/150] | Train Loss: 0.7744, Train Acc: 96.39% | Val Loss: 0.7962, Val Acc: 95.15% | Acc Gap: 1.24% | Transform Severity: 1.05\n"
     ]
    }
   ],
   "source": [
    "train_loader = DataLoader(train_dataset, batch_size=64, shuffle=True, num_workers=4)\n",
    "val_loader = DataLoader(val_dataset, batch_size=64, shuffle=False, num_workers=4)\n",
    "test_loader = DataLoader(test_dataset, batch_size=64, shuffle=False, num_workers=4)\n",
    "\n",
    "checkpoint_path = \"final_model_03-14.pth\" \n",
    "severity = 1.0  \n",
    "max_severity = 1.5  \n",
    "acc_gap_threshold = 2.0  \n",
    "best_val_loss = float('inf')\n",
    "start_epoch = 0\n",
    "num_epochs = 150\n",
    "\n",
    "criterion = nn.CrossEntropyLoss(label_smoothing=0.15)\n",
    "optimizer = optim.SGD(model.parameters(), lr=0.075, momentum=0.9, weight_decay=1e-4)\n",
    "scheduler = optim.lr_scheduler.ReduceLROnPlateau(\n",
    "    optimizer, mode='min', factor=0.1, patience=10, min_lr=1e-6\n",
    ")\n",
    "model.to(device)\n",
    "\n",
    "def fgsm_attack(image, epsilon, data_grad):\n",
    "    sign_data_grad = data_grad.sign()\n",
    "    perturbed_image = image + epsilon * sign_data_grad\n",
    "    return torch.clamp(perturbed_image, 0, 1)\n",
    "\n",
    "if os.path.exists(checkpoint_path):\n",
    "    checkpoint = torch.load(checkpoint_path, map_location=device)\n",
    "    model.load_state_dict(checkpoint['model_state_dict'])\n",
    "    optimizer.load_state_dict(checkpoint['optimizer_state_dict'])\n",
    "    scheduler.load_state_dict(checkpoint['scheduler_state_dict'])\n",
    "    start_epoch = checkpoint['epoch'] + 1\n",
    "    best_val_loss = checkpoint['best_val_loss']\n",
    "    severity = checkpoint['severity']\n",
    "    train_dataset.transform = get_train_transform(severity=severity)\n",
    "    train_loader = DataLoader(train_dataset, batch_size=64, shuffle=True, num_workers=4)\n",
    "    print(f\"Loaded checkpoint from epoch {checkpoint['epoch']}, best val loss: {best_val_loss:.4f}, severity: {severity:.2f}\")\n",
    "else:\n",
    "    print(\"No checkpoint found, starting training from scratch.\")\n",
    "\n",
    "for epoch in range(start_epoch, num_epochs):\n",
    "    model.train()\n",
    "    train_loss, train_correct, train_total = 0.0, 0, 0\n",
    "\n",
    "    for images, labels, _ in tqdm(train_loader, desc=f\"Epoch {epoch+1}/{num_epochs} - Training\"):\n",
    "        images, labels = images.to(device), labels.to(device)\n",
    "        optimizer.zero_grad()\n",
    "\n",
    "        # Adversarial training (20% of batches)\n",
    "        if random.random() < 0.2:\n",
    "            images.requires_grad = True\n",
    "            outputs = model(images)\n",
    "            loss = criterion(outputs, labels)\n",
    "            loss.backward(retain_graph=True)\n",
    "            perturbed_images = fgsm_attack(images, epsilon=0.01, data_grad=images.grad.data)\n",
    "            optimizer.zero_grad()\n",
    "            outputs = model(perturbed_images)\n",
    "            loss = criterion(outputs, labels)\n",
    "        else:\n",
    "            outputs = model(images)\n",
    "            loss = criterion(outputs, labels)\n",
    "\n",
    "        loss.backward()\n",
    "        torch.nn.utils.clip_grad_norm_(model.parameters(), max_norm=1.0)\n",
    "        optimizer.step()\n",
    "\n",
    "        train_loss += loss.item() * labels.size(0)\n",
    "        _, preds = outputs.max(1)\n",
    "        train_correct += preds.eq(labels).sum().item()\n",
    "        train_total += labels.size(0)\n",
    "\n",
    "    train_loss /= train_total\n",
    "    train_acc = 100. * train_correct / train_total\n",
    "\n",
    "    # Validation\n",
    "    model.eval()\n",
    "    val_loss, val_correct, val_total = 0, 0, 0\n",
    "    with torch.no_grad():\n",
    "        for images, labels, _ in val_loader:\n",
    "            images, labels = images.to(device), labels.to(device)\n",
    "            outputs = model(images)\n",
    "            loss = criterion(outputs, labels)\n",
    "            val_loss += loss.item() * labels.size(0)\n",
    "            _, preds = outputs.max(1)\n",
    "            val_correct += preds.eq(labels).sum().item()\n",
    "            val_total += labels.size(0)\n",
    "\n",
    "    val_loss /= val_total\n",
    "    val_acc = 100. * val_correct / val_total\n",
    "\n",
    "    scheduler.step(val_loss)\n",
    "\n",
    "    acc_gap = train_acc - val_acc\n",
    "    print(f\"Epoch [{epoch+1}/{num_epochs}] | Train Loss: {train_loss:.4f}, Train Acc: {train_acc:.2f}% | Val Loss: {val_loss:.4f}, Val Acc: {val_acc:.2f}% | Acc Gap: {acc_gap:.2f}% | Transform Severity: {severity:.2f}\")\n",
    "\n",
    "    if val_loss < best_val_loss:\n",
    "        best_val_loss = val_loss\n",
    "        checkpoint = {\n",
    "            'epoch': epoch,\n",
    "            'model_state_dict': model.state_dict(),\n",
    "            'optimizer_state_dict': optimizer.state_dict(),\n",
    "            'scheduler_state_dict': scheduler.state_dict(),\n",
    "            'best_val_loss': best_val_loss,\n",
    "            'severity': severity\n",
    "        }\n",
    "        torch.save(checkpoint, checkpoint_path)\n",
    "        print(f\"Model checkpoint saved at epoch {epoch+1} with val loss {val_loss:.4f}\")\n",
    "\n",
    "    if acc_gap > acc_gap_threshold and severity < max_severity:\n",
    "        severity = min(severity + 0.05 * (acc_gap - acc_gap_threshold), max_severity)\n",
    "        train_dataset.transform = get_train_transform(severity=severity)\n",
    "        train_loader = DataLoader(train_dataset, batch_size=64, shuffle=True, num_workers=4)\n",
    "        print(f\"Acc gap {acc_gap:.2f}% > {acc_gap_threshold}, increased transform severity to {severity:.2f}\")"
   ]
  },
  {
   "cell_type": "code",
   "execution_count": 27,
   "id": "885f15e7-40d1-4ac8-81e9-87fa9a54b66b",
   "metadata": {},
   "outputs": [
    {
     "name": "stdout",
     "output_type": "stream",
     "text": [
      "Final Train Accuracy: 99.21%\n",
      "Final Validation Accuracy: 95.54%\n"
     ]
    }
   ],
   "source": [
    "import seaborn as sns\n",
    "from sklearn.metrics import confusion_matrix, accuracy_score\n",
    "\n",
    "# Load best model from checkpoint\n",
    "checkpoint = torch.load(\"final_model_03-14.pth\", map_location=device)\n",
    "model.load_state_dict(checkpoint['model_state_dict'])\n",
    "model.eval()\n",
    "\n",
    "# Function to evaluate accuracy\n",
    "def evaluate_accuracy(loader, model, device):\n",
    "    total, correct = 0, 0\n",
    "    all_labels, all_preds = [], []\n",
    "    \n",
    "    with torch.no_grad():\n",
    "        for images, labels, _ in loader:\n",
    "            images, labels = images.to(device), labels.to(device)\n",
    "            outputs = model(images)\n",
    "            _, predicted = outputs.max(1)\n",
    "            \n",
    "            total += labels.size(0)\n",
    "            correct += predicted.eq(labels).sum().item()\n",
    "            \n",
    "            all_labels.extend(labels.cpu().numpy())\n",
    "            all_preds.extend(predicted.cpu().numpy())\n",
    "    \n",
    "    acc = 100.0 * correct / total\n",
    "    return acc, all_labels, all_preds\n",
    "\n",
    "# Compute accuracy\n",
    "train_acc, _, _ = evaluate_accuracy(train_loader, model, device)\n",
    "val_acc, val_labels, val_preds = evaluate_accuracy(val_loader, model, device)\n",
    "print(f\"Final Train Accuracy: {train_acc:.2f}%\")\n",
    "print(f\"Final Validation Accuracy: {val_acc:.2f}%\")"
   ]
  },
  {
   "cell_type": "code",
   "execution_count": 41,
   "id": "351a33cb-8483-4c54-aa3a-f0526e2c9c9c",
   "metadata": {},
   "outputs": [
    {
     "name": "stdout",
     "output_type": "stream",
     "text": [
      "Class airplane Accuracy: 96.50%\n",
      "Class automobile Accuracy: 98.60%\n",
      "Class bird Accuracy: 95.00%\n",
      "Class cat Accuracy: 88.90%\n",
      "Class deer Accuracy: 95.80%\n",
      "Class dog Accuracy: 92.60%\n",
      "Class frog Accuracy: 97.20%\n",
      "Class horse Accuracy: 97.30%\n",
      "Class ship Accuracy: 97.70%\n",
      "Class truck Accuracy: 95.80%\n"
     ]
    }
   ],
   "source": [
    "# Compute class-wise validation accuracy\n",
    "num_classes = 10\n",
    "class_correct = np.zeros(num_classes)\n",
    "class_total = np.zeros(num_classes)\n",
    "\n",
    "for true, pred in zip(val_labels, val_preds):\n",
    "    class_total[true] += 1\n",
    "    if true == pred:\n",
    "        class_correct[true] += 1\n",
    "\n",
    "class_acc = class_correct / class_total * 100\n",
    "for i in range(num_classes):\n",
    "    print(f\"Class {cifar10_labels[i]} Accuracy: {class_acc[i]:.2f}%\")"
   ]
  },
  {
   "cell_type": "code",
   "execution_count": 44,
   "id": "af046f08-cf8e-47ab-8c09-66fc3edb04c5",
   "metadata": {},
   "outputs": [
    {
     "data": {
      "image/png": "[encoded data removed]",
      "text/plain": [
       "<Figure size 1000x800 with 2 Axes>"
      ]
     },
     "metadata": {},
     "output_type": "display_data"
    },
    {
     "data": {
      "text/plain": [
       "<Figure size 640x480 with 0 Axes>"
      ]
     },
     "metadata": {},
     "output_type": "display_data"
    }
   ],
   "source": [
    "# Confusion matrix\n",
    "cm = confusion_matrix(val_labels, val_preds)\n",
    "plt.figure(figsize=(10, 8))\n",
    "sns.heatmap(cm, annot=True, fmt='d', cmap='Blues', xticklabels=cifar10_labels.values(), yticklabels=cifar10_labels.values())\n",
    "plt.xlabel(\"Predicted Label\")\n",
    "plt.ylabel(\"True Label\")\n",
    "plt.title(\"Confusion Matrix\")\n",
    "plt.show()\n",
    "plt.savefig(\"final-conf-matrix.jpg\")"
   ]
  },
  {
   "cell_type": "code",
   "execution_count": 31,
   "id": "ffe61692-ca17-46eb-ad5b-e881e91d1131",
   "metadata": {},
   "outputs": [
    {
     "name": "stdout",
     "output_type": "stream",
     "text": [
      "Submission file saved as submission_final_03-14.csv\n"
     ]
    }
   ],
   "source": [
    "# Generate submission file\n",
    "pred_labels = []\n",
    "mean_tensor = torch.tensor([0.4914, 0.4822, 0.4465]).view(1, 3, 1, 1).to(device)\n",
    "std_tensor = torch.tensor([0.2023, 0.1994, 0.2010]).view(1, 3, 1, 1).to(device)\n",
    "\n",
    "for idx in range(len(test_images)):\n",
    "    image = test_images[idx].reshape(32, 32, 3)\n",
    "    tensor_image = torch.tensor(image).permute(2, 0, 1).unsqueeze(0).float().to(device)\n",
    "    tensor_image = (tensor_image / 255.0 - mean_tensor) / std_tensor\n",
    "    \n",
    "    with torch.no_grad():\n",
    "        output = model(tensor_image)\n",
    "        pred_label_idx = output.argmax(dim=1).item()\n",
    "        pred_labels.append(pred_label_idx)\n",
    "\n",
    "submission_df = pd.DataFrame({\"ID\": test_ids, \"Labels\": pred_labels})\n",
    "submission_df.to_csv(\"submission_final_03-14.csv\", index=False)\n",
    "print(\"Submission file saved as submission_final_03-14.csv\")"
   ]
  }
 ],
 "metadata": {
  "kernelspec": {
   "display_name": "Python 3 (ipykernel)",
   "language": "python",
   "name": "python3"
  },
  "language_info": {
   "codemirror_mode": {
    "name": "ipython",
    "version": 3
   },
   "file_extension": ".py",
   "mimetype": "text/x-python",
   "name": "python",
   "nbconvert_exporter": "python",
   "pygments_lexer": "ipython3",
   "version": "3.9.18"
  }
 },
 "nbformat": 4,
 "nbformat_minor": 5
}
